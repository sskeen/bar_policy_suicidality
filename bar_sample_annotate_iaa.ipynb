{
  "cells": [
    {
      "cell_type": "markdown",
      "id": "4efe4976-f441-4822-90e8-04a11e9bd35b",
      "metadata": {
        "id": "4efe4976-f441-4822-90e8-04a11e9bd35b"
      },
      "source": [
        "# Prospectus"
      ]
    },
    {
      "cell_type": "markdown",
      "id": "cbcf1a84-27d2-46d1-be12-fef115a5e383",
      "metadata": {
        "id": "cbcf1a84-27d2-46d1-be12-fef115a5e383"
      },
      "source": [
        "_Imports, re-indexes by date, cleans, reduces, restricts by timeframe; permits regex pattern-matched purposive (Wave 1) and random (Wave 2) sampling and named entity redaction of PushShift .gzip Reddit archives for .csv annotation. Computes Cohen's Kappa post-annotation._"
      ]
    },
    {
      "cell_type": "markdown",
      "id": "6798cd51-6e0f-4952-ab6d-1dcc8d4a4212",
      "metadata": {
        "id": "6798cd51-6e0f-4952-ab6d-1dcc8d4a4212"
      },
      "source": [
        "> bar_sample_annotate_iaa.ipynb<br>\n",
        "> Simone J. Skeen (06-24-2024)"
      ]
    },
    {
      "cell_type": "markdown",
      "id": "affd73c6-0a20-4c57-bade-c6b314610435",
      "metadata": {
        "id": "affd73c6-0a20-4c57-bade-c6b314610435"
      },
      "source": [
        "### Pre-annotation\n",
        "***"
      ]
    },
    {
      "cell_type": "code",
      "source": [
        "#%pip install bertopic\n",
        "\n",
        "!python -m spacy download en_core_web_lg --user"
      ],
      "metadata": {
        "id": "U3DLJH5p7D4I",
        "colab": {
          "base_uri": "https://localhost:8080/"
        },
        "collapsed": true,
        "outputId": "3d68a1a2-8474-462e-b311-12c769a1714c"
      },
      "id": "U3DLJH5p7D4I",
      "execution_count": 1,
      "outputs": [
        {
          "output_type": "stream",
          "name": "stdout",
          "text": [
            "Collecting en-core-web-lg==3.7.1\n",
            "  Downloading https://github.com/explosion/spacy-models/releases/download/en_core_web_lg-3.7.1/en_core_web_lg-3.7.1-py3-none-any.whl (587.7 MB)\n",
            "\u001b[2K     \u001b[90m━━━━━━━━━━━━━━━━━━━━━━━━━━━━━━━━━━━━━━━━\u001b[0m \u001b[32m587.7/587.7 MB\u001b[0m \u001b[31m2.7 MB/s\u001b[0m eta \u001b[36m0:00:00\u001b[0m\n",
            "\u001b[?25hRequirement already satisfied: spacy<3.8.0,>=3.7.2 in /usr/local/lib/python3.10/dist-packages (from en-core-web-lg==3.7.1) (3.7.5)\n",
            "Requirement already satisfied: spacy-legacy<3.1.0,>=3.0.11 in /usr/local/lib/python3.10/dist-packages (from spacy<3.8.0,>=3.7.2->en-core-web-lg==3.7.1) (3.0.12)\n",
            "Requirement already satisfied: spacy-loggers<2.0.0,>=1.0.0 in /usr/local/lib/python3.10/dist-packages (from spacy<3.8.0,>=3.7.2->en-core-web-lg==3.7.1) (1.0.5)\n",
            "Requirement already satisfied: murmurhash<1.1.0,>=0.28.0 in /usr/local/lib/python3.10/dist-packages (from spacy<3.8.0,>=3.7.2->en-core-web-lg==3.7.1) (1.0.10)\n",
            "Requirement already satisfied: cymem<2.1.0,>=2.0.2 in /usr/local/lib/python3.10/dist-packages (from spacy<3.8.0,>=3.7.2->en-core-web-lg==3.7.1) (2.0.8)\n",
            "Requirement already satisfied: preshed<3.1.0,>=3.0.2 in /usr/local/lib/python3.10/dist-packages (from spacy<3.8.0,>=3.7.2->en-core-web-lg==3.7.1) (3.0.9)\n",
            "Requirement already satisfied: thinc<8.3.0,>=8.2.2 in /usr/local/lib/python3.10/dist-packages (from spacy<3.8.0,>=3.7.2->en-core-web-lg==3.7.1) (8.2.5)\n",
            "Requirement already satisfied: wasabi<1.2.0,>=0.9.1 in /usr/local/lib/python3.10/dist-packages (from spacy<3.8.0,>=3.7.2->en-core-web-lg==3.7.1) (1.1.3)\n",
            "Requirement already satisfied: srsly<3.0.0,>=2.4.3 in /usr/local/lib/python3.10/dist-packages (from spacy<3.8.0,>=3.7.2->en-core-web-lg==3.7.1) (2.4.8)\n",
            "Requirement already satisfied: catalogue<2.1.0,>=2.0.6 in /usr/local/lib/python3.10/dist-packages (from spacy<3.8.0,>=3.7.2->en-core-web-lg==3.7.1) (2.0.10)\n",
            "Requirement already satisfied: weasel<0.5.0,>=0.1.0 in /usr/local/lib/python3.10/dist-packages (from spacy<3.8.0,>=3.7.2->en-core-web-lg==3.7.1) (0.4.1)\n",
            "Requirement already satisfied: typer<1.0.0,>=0.3.0 in /usr/local/lib/python3.10/dist-packages (from spacy<3.8.0,>=3.7.2->en-core-web-lg==3.7.1) (0.12.3)\n",
            "Requirement already satisfied: tqdm<5.0.0,>=4.38.0 in /usr/local/lib/python3.10/dist-packages (from spacy<3.8.0,>=3.7.2->en-core-web-lg==3.7.1) (4.66.4)\n",
            "Requirement already satisfied: requests<3.0.0,>=2.13.0 in /usr/local/lib/python3.10/dist-packages (from spacy<3.8.0,>=3.7.2->en-core-web-lg==3.7.1) (2.31.0)\n",
            "Requirement already satisfied: pydantic!=1.8,!=1.8.1,<3.0.0,>=1.7.4 in /usr/local/lib/python3.10/dist-packages (from spacy<3.8.0,>=3.7.2->en-core-web-lg==3.7.1) (2.7.4)\n",
            "Requirement already satisfied: jinja2 in /usr/local/lib/python3.10/dist-packages (from spacy<3.8.0,>=3.7.2->en-core-web-lg==3.7.1) (3.1.4)\n",
            "Requirement already satisfied: setuptools in /usr/local/lib/python3.10/dist-packages (from spacy<3.8.0,>=3.7.2->en-core-web-lg==3.7.1) (67.7.2)\n",
            "Requirement already satisfied: packaging>=20.0 in /usr/local/lib/python3.10/dist-packages (from spacy<3.8.0,>=3.7.2->en-core-web-lg==3.7.1) (24.1)\n",
            "Requirement already satisfied: langcodes<4.0.0,>=3.2.0 in /usr/local/lib/python3.10/dist-packages (from spacy<3.8.0,>=3.7.2->en-core-web-lg==3.7.1) (3.4.0)\n",
            "Requirement already satisfied: numpy>=1.19.0 in /usr/local/lib/python3.10/dist-packages (from spacy<3.8.0,>=3.7.2->en-core-web-lg==3.7.1) (1.25.2)\n",
            "Requirement already satisfied: language-data>=1.2 in /usr/local/lib/python3.10/dist-packages (from langcodes<4.0.0,>=3.2.0->spacy<3.8.0,>=3.7.2->en-core-web-lg==3.7.1) (1.2.0)\n",
            "Requirement already satisfied: annotated-types>=0.4.0 in /usr/local/lib/python3.10/dist-packages (from pydantic!=1.8,!=1.8.1,<3.0.0,>=1.7.4->spacy<3.8.0,>=3.7.2->en-core-web-lg==3.7.1) (0.7.0)\n",
            "Requirement already satisfied: pydantic-core==2.18.4 in /usr/local/lib/python3.10/dist-packages (from pydantic!=1.8,!=1.8.1,<3.0.0,>=1.7.4->spacy<3.8.0,>=3.7.2->en-core-web-lg==3.7.1) (2.18.4)\n",
            "Requirement already satisfied: typing-extensions>=4.6.1 in /usr/local/lib/python3.10/dist-packages (from pydantic!=1.8,!=1.8.1,<3.0.0,>=1.7.4->spacy<3.8.0,>=3.7.2->en-core-web-lg==3.7.1) (4.12.2)\n",
            "Requirement already satisfied: charset-normalizer<4,>=2 in /usr/local/lib/python3.10/dist-packages (from requests<3.0.0,>=2.13.0->spacy<3.8.0,>=3.7.2->en-core-web-lg==3.7.1) (3.3.2)\n",
            "Requirement already satisfied: idna<4,>=2.5 in /usr/local/lib/python3.10/dist-packages (from requests<3.0.0,>=2.13.0->spacy<3.8.0,>=3.7.2->en-core-web-lg==3.7.1) (3.7)\n",
            "Requirement already satisfied: urllib3<3,>=1.21.1 in /usr/local/lib/python3.10/dist-packages (from requests<3.0.0,>=2.13.0->spacy<3.8.0,>=3.7.2->en-core-web-lg==3.7.1) (2.0.7)\n",
            "Requirement already satisfied: certifi>=2017.4.17 in /usr/local/lib/python3.10/dist-packages (from requests<3.0.0,>=2.13.0->spacy<3.8.0,>=3.7.2->en-core-web-lg==3.7.1) (2024.6.2)\n",
            "Requirement already satisfied: blis<0.8.0,>=0.7.8 in /usr/local/lib/python3.10/dist-packages (from thinc<8.3.0,>=8.2.2->spacy<3.8.0,>=3.7.2->en-core-web-lg==3.7.1) (0.7.11)\n",
            "Requirement already satisfied: confection<1.0.0,>=0.0.1 in /usr/local/lib/python3.10/dist-packages (from thinc<8.3.0,>=8.2.2->spacy<3.8.0,>=3.7.2->en-core-web-lg==3.7.1) (0.1.5)\n",
            "Requirement already satisfied: click>=8.0.0 in /usr/local/lib/python3.10/dist-packages (from typer<1.0.0,>=0.3.0->spacy<3.8.0,>=3.7.2->en-core-web-lg==3.7.1) (8.1.7)\n",
            "Requirement already satisfied: shellingham>=1.3.0 in /usr/local/lib/python3.10/dist-packages (from typer<1.0.0,>=0.3.0->spacy<3.8.0,>=3.7.2->en-core-web-lg==3.7.1) (1.5.4)\n",
            "Requirement already satisfied: rich>=10.11.0 in /usr/local/lib/python3.10/dist-packages (from typer<1.0.0,>=0.3.0->spacy<3.8.0,>=3.7.2->en-core-web-lg==3.7.1) (13.7.1)\n",
            "Requirement already satisfied: cloudpathlib<1.0.0,>=0.7.0 in /usr/local/lib/python3.10/dist-packages (from weasel<0.5.0,>=0.1.0->spacy<3.8.0,>=3.7.2->en-core-web-lg==3.7.1) (0.18.1)\n",
            "Requirement already satisfied: smart-open<8.0.0,>=5.2.1 in /usr/local/lib/python3.10/dist-packages (from weasel<0.5.0,>=0.1.0->spacy<3.8.0,>=3.7.2->en-core-web-lg==3.7.1) (7.0.4)\n",
            "Requirement already satisfied: MarkupSafe>=2.0 in /usr/local/lib/python3.10/dist-packages (from jinja2->spacy<3.8.0,>=3.7.2->en-core-web-lg==3.7.1) (2.1.5)\n",
            "Requirement already satisfied: marisa-trie>=0.7.7 in /usr/local/lib/python3.10/dist-packages (from language-data>=1.2->langcodes<4.0.0,>=3.2.0->spacy<3.8.0,>=3.7.2->en-core-web-lg==3.7.1) (1.2.0)\n",
            "Requirement already satisfied: markdown-it-py>=2.2.0 in /usr/local/lib/python3.10/dist-packages (from rich>=10.11.0->typer<1.0.0,>=0.3.0->spacy<3.8.0,>=3.7.2->en-core-web-lg==3.7.1) (3.0.0)\n",
            "Requirement already satisfied: pygments<3.0.0,>=2.13.0 in /usr/local/lib/python3.10/dist-packages (from rich>=10.11.0->typer<1.0.0,>=0.3.0->spacy<3.8.0,>=3.7.2->en-core-web-lg==3.7.1) (2.16.1)\n",
            "Requirement already satisfied: wrapt in /usr/local/lib/python3.10/dist-packages (from smart-open<8.0.0,>=5.2.1->weasel<0.5.0,>=0.1.0->spacy<3.8.0,>=3.7.2->en-core-web-lg==3.7.1) (1.14.1)\n",
            "Requirement already satisfied: mdurl~=0.1 in /usr/local/lib/python3.10/dist-packages (from markdown-it-py>=2.2.0->rich>=10.11.0->typer<1.0.0,>=0.3.0->spacy<3.8.0,>=3.7.2->en-core-web-lg==3.7.1) (0.1.2)\n",
            "Installing collected packages: en-core-web-lg\n",
            "Successfully installed en-core-web-lg-3.7.1\n",
            "\u001b[38;5;2m✔ Download and installation successful\u001b[0m\n",
            "You can now load the package via spacy.load('en_core_web_lg')\n",
            "\u001b[38;5;3m⚠ Restart to reload dependencies\u001b[0m\n",
            "If you are in a Jupyter or Colab notebook, you may need to restart Python in\n",
            "order to load all the package's dependencies. You can do this by selecting the\n",
            "'Restart kernel' or 'Restart runtime' option.\n"
          ]
        }
      ]
    },
    {
      "cell_type": "code",
      "execution_count": 1,
      "id": "83bb8bab-34f5-49c7-abd1-7c85118d8959",
      "metadata": {
        "id": "83bb8bab-34f5-49c7-abd1-7c85118d8959",
        "colab": {
          "base_uri": "https://localhost:8080/"
        },
        "outputId": "763dd51e-8741-435c-95f1-7f893f790f3e"
      },
      "outputs": [
        {
          "output_type": "stream",
          "name": "stdout",
          "text": [
            "\u001b[38;5;2m✔ Download and installation successful\u001b[0m\n",
            "You can now load the package via spacy.load('en_core_web_lg')\n",
            "\u001b[38;5;3m⚠ Restart to reload dependencies\u001b[0m\n",
            "If you are in a Jupyter or Colab notebook, you may need to restart Python in\n",
            "order to load all the package's dependencies. You can do this by selecting the\n",
            "'Restart kernel' or 'Restart runtime' option.\n"
          ]
        }
      ],
      "source": [
        "import gzip\n",
        "import json\n",
        "import matplotlib.pyplot as plt\n",
        "import numpy as np\n",
        "import os\n",
        "import pandas as pd\n",
        "import random\n",
        "import re\n",
        "import spacy\n",
        "import warnings\n",
        "import webbrowser\n",
        "\n",
        "from collections import Counter\n",
        "from google.colab import drive\n",
        "from irrCAC.raw import CAC\n",
        "from sklearn.metrics import cohen_kappa_score\n",
        "\n",
        "spacy.cli.download('en_core_web_lg')\n",
        "\n",
        "from IPython.core.interactiveshell import InteractiveShell\n",
        "InteractiveShell.ast_node_interactivity = 'all'\n",
        "\n",
        "pd.set_option(\n",
        "              'display.max_columns',\n",
        "              None,\n",
        "              )\n",
        "pd.set_option(\n",
        "              'display.max_rows',\n",
        "              None,\n",
        "              )\n",
        "\n",
        "warnings.simplefilter(\n",
        "                      action = 'ignore',\n",
        "                      category = FutureWarning,\n",
        "                      )\n",
        "\n",
        "#!python -m prodigy stats"
      ]
    },
    {
      "cell_type": "code",
      "source": [
        "drive.mount(\n",
        "            '/content/gdrive/',\n",
        "            force_remount = True,\n",
        "            )\n",
        "\n",
        "%cd gdrive/My Drive/Colab/prospectus/d_posts"
      ],
      "metadata": {
        "colab": {
          "base_uri": "https://localhost:8080/"
        },
        "id": "cWxS34vQ7Hy2",
        "outputId": "378d8032-5b58-40f9-8ec8-7444272753b7"
      },
      "execution_count": 4,
      "outputs": [
        {
          "output_type": "stream",
          "name": "stdout",
          "text": [
            "Mounted at /content/gdrive/\n",
            "/content/gdrive/My Drive/Colab/prospectus/d_posts\n"
          ]
        }
      ],
      "id": "cWxS34vQ7Hy2"
    },
    {
      "cell_type": "markdown",
      "source": [
        "**_Import_**"
      ],
      "metadata": {
        "id": "OMSI1D-cTkig"
      },
      "id": "OMSI1D-cTkig"
    },
    {
      "cell_type": "code",
      "execution_count": 5,
      "id": "5223e24d-c668-45e4-8ac1-fc4bb388c349",
      "metadata": {
        "id": "5223e24d-c668-45e4-8ac1-fc4bb388c349",
        "colab": {
          "base_uri": "https://localhost:8080/",
          "height": 785
        },
        "collapsed": true,
        "outputId": "9a9cb3c8-98ca-4b90-e3a1-dde1be7809df"
      },
      "outputs": [
        {
          "output_type": "execute_result",
          "data": {
            "text/plain": [
              "(1459120, 16)"
            ]
          },
          "metadata": {},
          "execution_count": 5
        },
        {
          "output_type": "execute_result",
          "data": {
            "text/plain": [
              "author                  object\n",
              "created_utc             object\n",
              "edited                  object\n",
              "id                      object\n",
              "is_self                   bool\n",
              "media_embed             object\n",
              "num_comments             int64\n",
              "over_18                   bool\n",
              "permalink               object\n",
              "score                    int64\n",
              "selftext                object\n",
              "subreddit               object\n",
              "subreddit_id            object\n",
              "thumbnail               object\n",
              "title                   object\n",
              "date            datetime64[ns]\n",
              "dtype: object"
            ]
          },
          "metadata": {},
          "execution_count": 5
        },
        {
          "output_type": "execute_result",
          "data": {
            "text/plain": [
              "                          author created_utc edited      id  is_self  \\\n",
              "date                                                                   \n",
              "2014-08-23 06:24:00    [deleted]  1408775004  False  2ecj5x     True   \n",
              "2014-04-25 17:27:28        8140_  1398446886  False  23yt4w     True   \n",
              "2021-03-22 12:00:06  amnotroboto  1616414406  False  maltyf     True   \n",
              "\n",
              "                    media_embed  num_comments  over_18  \\\n",
              "date                                                     \n",
              "2014-08-23 06:24:00          {}             3    False   \n",
              "2014-04-25 17:27:28          {}             6    False   \n",
              "2021-03-22 12:00:06          {}            20    False   \n",
              "\n",
              "                                                             permalink  score  \\\n",
              "date                                                                            \n",
              "2014-08-23 06:24:00  /r/SuicideWatch/comments/2ecj5x/its_been_a_shi...      3   \n",
              "2014-04-25 17:27:28  /r/SuicideWatch/comments/23yt4w/please_help_me...      1   \n",
              "2021-03-22 12:00:06  /r/SuicideWatch/comments/maltyf/flashy_title_t...     76   \n",
              "\n",
              "                                                              selftext  \\\n",
              "date                                                                     \n",
              "2014-08-23 06:24:00  I only think about suicide when I have a run o...   \n",
              "2014-04-25 17:27:28  Guys I'm really freaking out. I actually think...   \n",
              "2021-03-22 12:00:06  I'm so fucking alone and I have absolutely nob...   \n",
              "\n",
              "                        subreddit subreddit_id thumbnail  \\\n",
              "date                                                       \n",
              "2014-08-23 06:24:00  SuicideWatch     t5_2qpzs   default   \n",
              "2014-04-25 17:27:28  SuicideWatch     t5_2qpzs      self   \n",
              "2021-03-22 12:00:06  SuicideWatch     t5_2qpzs      self   \n",
              "\n",
              "                                                     title                date  \n",
              "date                                                                            \n",
              "2014-08-23 06:24:00          It's been a shitty few weeks. 2014-08-23 06:24:00  \n",
              "2014-04-25 17:27:28     Please help me what else can I say 2014-04-25 17:27:28  \n",
              "2021-03-22 12:00:06  *flashy title that'll grab attention* 2021-03-22 12:00:06  "
            ],
            "text/html": [
              "\n",
              "  <div id=\"df-a2d40d6b-c02b-4534-a9a7-22265adab1e3\" class=\"colab-df-container\">\n",
              "    <div>\n",
              "<style scoped>\n",
              "    .dataframe tbody tr th:only-of-type {\n",
              "        vertical-align: middle;\n",
              "    }\n",
              "\n",
              "    .dataframe tbody tr th {\n",
              "        vertical-align: top;\n",
              "    }\n",
              "\n",
              "    .dataframe thead th {\n",
              "        text-align: right;\n",
              "    }\n",
              "</style>\n",
              "<table border=\"1\" class=\"dataframe\">\n",
              "  <thead>\n",
              "    <tr style=\"text-align: right;\">\n",
              "      <th></th>\n",
              "      <th>author</th>\n",
              "      <th>created_utc</th>\n",
              "      <th>edited</th>\n",
              "      <th>id</th>\n",
              "      <th>is_self</th>\n",
              "      <th>media_embed</th>\n",
              "      <th>num_comments</th>\n",
              "      <th>over_18</th>\n",
              "      <th>permalink</th>\n",
              "      <th>score</th>\n",
              "      <th>selftext</th>\n",
              "      <th>subreddit</th>\n",
              "      <th>subreddit_id</th>\n",
              "      <th>thumbnail</th>\n",
              "      <th>title</th>\n",
              "      <th>date</th>\n",
              "    </tr>\n",
              "    <tr>\n",
              "      <th>date</th>\n",
              "      <th></th>\n",
              "      <th></th>\n",
              "      <th></th>\n",
              "      <th></th>\n",
              "      <th></th>\n",
              "      <th></th>\n",
              "      <th></th>\n",
              "      <th></th>\n",
              "      <th></th>\n",
              "      <th></th>\n",
              "      <th></th>\n",
              "      <th></th>\n",
              "      <th></th>\n",
              "      <th></th>\n",
              "      <th></th>\n",
              "      <th></th>\n",
              "    </tr>\n",
              "  </thead>\n",
              "  <tbody>\n",
              "    <tr>\n",
              "      <th>2014-08-23 06:24:00</th>\n",
              "      <td>[deleted]</td>\n",
              "      <td>1408775004</td>\n",
              "      <td>False</td>\n",
              "      <td>2ecj5x</td>\n",
              "      <td>True</td>\n",
              "      <td>{}</td>\n",
              "      <td>3</td>\n",
              "      <td>False</td>\n",
              "      <td>/r/SuicideWatch/comments/2ecj5x/its_been_a_shi...</td>\n",
              "      <td>3</td>\n",
              "      <td>I only think about suicide when I have a run o...</td>\n",
              "      <td>SuicideWatch</td>\n",
              "      <td>t5_2qpzs</td>\n",
              "      <td>default</td>\n",
              "      <td>It's been a shitty few weeks.</td>\n",
              "      <td>2014-08-23 06:24:00</td>\n",
              "    </tr>\n",
              "    <tr>\n",
              "      <th>2014-04-25 17:27:28</th>\n",
              "      <td>8140_</td>\n",
              "      <td>1398446886</td>\n",
              "      <td>False</td>\n",
              "      <td>23yt4w</td>\n",
              "      <td>True</td>\n",
              "      <td>{}</td>\n",
              "      <td>6</td>\n",
              "      <td>False</td>\n",
              "      <td>/r/SuicideWatch/comments/23yt4w/please_help_me...</td>\n",
              "      <td>1</td>\n",
              "      <td>Guys I'm really freaking out. I actually think...</td>\n",
              "      <td>SuicideWatch</td>\n",
              "      <td>t5_2qpzs</td>\n",
              "      <td>self</td>\n",
              "      <td>Please help me what else can I say</td>\n",
              "      <td>2014-04-25 17:27:28</td>\n",
              "    </tr>\n",
              "    <tr>\n",
              "      <th>2021-03-22 12:00:06</th>\n",
              "      <td>amnotroboto</td>\n",
              "      <td>1616414406</td>\n",
              "      <td>False</td>\n",
              "      <td>maltyf</td>\n",
              "      <td>True</td>\n",
              "      <td>{}</td>\n",
              "      <td>20</td>\n",
              "      <td>False</td>\n",
              "      <td>/r/SuicideWatch/comments/maltyf/flashy_title_t...</td>\n",
              "      <td>76</td>\n",
              "      <td>I'm so fucking alone and I have absolutely nob...</td>\n",
              "      <td>SuicideWatch</td>\n",
              "      <td>t5_2qpzs</td>\n",
              "      <td>self</td>\n",
              "      <td>*flashy title that'll grab attention*</td>\n",
              "      <td>2021-03-22 12:00:06</td>\n",
              "    </tr>\n",
              "  </tbody>\n",
              "</table>\n",
              "</div>\n",
              "    <div class=\"colab-df-buttons\">\n",
              "\n",
              "  <div class=\"colab-df-container\">\n",
              "    <button class=\"colab-df-convert\" onclick=\"convertToInteractive('df-a2d40d6b-c02b-4534-a9a7-22265adab1e3')\"\n",
              "            title=\"Convert this dataframe to an interactive table.\"\n",
              "            style=\"display:none;\">\n",
              "\n",
              "  <svg xmlns=\"http://www.w3.org/2000/svg\" height=\"24px\" viewBox=\"0 -960 960 960\">\n",
              "    <path d=\"M120-120v-720h720v720H120Zm60-500h600v-160H180v160Zm220 220h160v-160H400v160Zm0 220h160v-160H400v160ZM180-400h160v-160H180v160Zm440 0h160v-160H620v160ZM180-180h160v-160H180v160Zm440 0h160v-160H620v160Z\"/>\n",
              "  </svg>\n",
              "    </button>\n",
              "\n",
              "  <style>\n",
              "    .colab-df-container {\n",
              "      display:flex;\n",
              "      gap: 12px;\n",
              "    }\n",
              "\n",
              "    .colab-df-convert {\n",
              "      background-color: #E8F0FE;\n",
              "      border: none;\n",
              "      border-radius: 50%;\n",
              "      cursor: pointer;\n",
              "      display: none;\n",
              "      fill: #1967D2;\n",
              "      height: 32px;\n",
              "      padding: 0 0 0 0;\n",
              "      width: 32px;\n",
              "    }\n",
              "\n",
              "    .colab-df-convert:hover {\n",
              "      background-color: #E2EBFA;\n",
              "      box-shadow: 0px 1px 2px rgba(60, 64, 67, 0.3), 0px 1px 3px 1px rgba(60, 64, 67, 0.15);\n",
              "      fill: #174EA6;\n",
              "    }\n",
              "\n",
              "    .colab-df-buttons div {\n",
              "      margin-bottom: 4px;\n",
              "    }\n",
              "\n",
              "    [theme=dark] .colab-df-convert {\n",
              "      background-color: #3B4455;\n",
              "      fill: #D2E3FC;\n",
              "    }\n",
              "\n",
              "    [theme=dark] .colab-df-convert:hover {\n",
              "      background-color: #434B5C;\n",
              "      box-shadow: 0px 1px 3px 1px rgba(0, 0, 0, 0.15);\n",
              "      filter: drop-shadow(0px 1px 2px rgba(0, 0, 0, 0.3));\n",
              "      fill: #FFFFFF;\n",
              "    }\n",
              "  </style>\n",
              "\n",
              "    <script>\n",
              "      const buttonEl =\n",
              "        document.querySelector('#df-a2d40d6b-c02b-4534-a9a7-22265adab1e3 button.colab-df-convert');\n",
              "      buttonEl.style.display =\n",
              "        google.colab.kernel.accessAllowed ? 'block' : 'none';\n",
              "\n",
              "      async function convertToInteractive(key) {\n",
              "        const element = document.querySelector('#df-a2d40d6b-c02b-4534-a9a7-22265adab1e3');\n",
              "        const dataTable =\n",
              "          await google.colab.kernel.invokeFunction('convertToInteractive',\n",
              "                                                    [key], {});\n",
              "        if (!dataTable) return;\n",
              "\n",
              "        const docLinkHtml = 'Like what you see? Visit the ' +\n",
              "          '<a target=\"_blank\" href=https://colab.research.google.com/notebooks/data_table.ipynb>data table notebook</a>'\n",
              "          + ' to learn more about interactive tables.';\n",
              "        element.innerHTML = '';\n",
              "        dataTable['output_type'] = 'display_data';\n",
              "        await google.colab.output.renderOutput(dataTable, element);\n",
              "        const docLink = document.createElement('div');\n",
              "        docLink.innerHTML = docLinkHtml;\n",
              "        element.appendChild(docLink);\n",
              "      }\n",
              "    </script>\n",
              "  </div>\n",
              "\n",
              "\n",
              "<div id=\"df-d517ad14-5522-4ebe-aa8f-5cbc66b60455\">\n",
              "  <button class=\"colab-df-quickchart\" onclick=\"quickchart('df-d517ad14-5522-4ebe-aa8f-5cbc66b60455')\"\n",
              "            title=\"Suggest charts\"\n",
              "            style=\"display:none;\">\n",
              "\n",
              "<svg xmlns=\"http://www.w3.org/2000/svg\" height=\"24px\"viewBox=\"0 0 24 24\"\n",
              "     width=\"24px\">\n",
              "    <g>\n",
              "        <path d=\"M19 3H5c-1.1 0-2 .9-2 2v14c0 1.1.9 2 2 2h14c1.1 0 2-.9 2-2V5c0-1.1-.9-2-2-2zM9 17H7v-7h2v7zm4 0h-2V7h2v10zm4 0h-2v-4h2v4z\"/>\n",
              "    </g>\n",
              "</svg>\n",
              "  </button>\n",
              "\n",
              "<style>\n",
              "  .colab-df-quickchart {\n",
              "      --bg-color: #E8F0FE;\n",
              "      --fill-color: #1967D2;\n",
              "      --hover-bg-color: #E2EBFA;\n",
              "      --hover-fill-color: #174EA6;\n",
              "      --disabled-fill-color: #AAA;\n",
              "      --disabled-bg-color: #DDD;\n",
              "  }\n",
              "\n",
              "  [theme=dark] .colab-df-quickchart {\n",
              "      --bg-color: #3B4455;\n",
              "      --fill-color: #D2E3FC;\n",
              "      --hover-bg-color: #434B5C;\n",
              "      --hover-fill-color: #FFFFFF;\n",
              "      --disabled-bg-color: #3B4455;\n",
              "      --disabled-fill-color: #666;\n",
              "  }\n",
              "\n",
              "  .colab-df-quickchart {\n",
              "    background-color: var(--bg-color);\n",
              "    border: none;\n",
              "    border-radius: 50%;\n",
              "    cursor: pointer;\n",
              "    display: none;\n",
              "    fill: var(--fill-color);\n",
              "    height: 32px;\n",
              "    padding: 0;\n",
              "    width: 32px;\n",
              "  }\n",
              "\n",
              "  .colab-df-quickchart:hover {\n",
              "    background-color: var(--hover-bg-color);\n",
              "    box-shadow: 0 1px 2px rgba(60, 64, 67, 0.3), 0 1px 3px 1px rgba(60, 64, 67, 0.15);\n",
              "    fill: var(--button-hover-fill-color);\n",
              "  }\n",
              "\n",
              "  .colab-df-quickchart-complete:disabled,\n",
              "  .colab-df-quickchart-complete:disabled:hover {\n",
              "    background-color: var(--disabled-bg-color);\n",
              "    fill: var(--disabled-fill-color);\n",
              "    box-shadow: none;\n",
              "  }\n",
              "\n",
              "  .colab-df-spinner {\n",
              "    border: 2px solid var(--fill-color);\n",
              "    border-color: transparent;\n",
              "    border-bottom-color: var(--fill-color);\n",
              "    animation:\n",
              "      spin 1s steps(1) infinite;\n",
              "  }\n",
              "\n",
              "  @keyframes spin {\n",
              "    0% {\n",
              "      border-color: transparent;\n",
              "      border-bottom-color: var(--fill-color);\n",
              "      border-left-color: var(--fill-color);\n",
              "    }\n",
              "    20% {\n",
              "      border-color: transparent;\n",
              "      border-left-color: var(--fill-color);\n",
              "      border-top-color: var(--fill-color);\n",
              "    }\n",
              "    30% {\n",
              "      border-color: transparent;\n",
              "      border-left-color: var(--fill-color);\n",
              "      border-top-color: var(--fill-color);\n",
              "      border-right-color: var(--fill-color);\n",
              "    }\n",
              "    40% {\n",
              "      border-color: transparent;\n",
              "      border-right-color: var(--fill-color);\n",
              "      border-top-color: var(--fill-color);\n",
              "    }\n",
              "    60% {\n",
              "      border-color: transparent;\n",
              "      border-right-color: var(--fill-color);\n",
              "    }\n",
              "    80% {\n",
              "      border-color: transparent;\n",
              "      border-right-color: var(--fill-color);\n",
              "      border-bottom-color: var(--fill-color);\n",
              "    }\n",
              "    90% {\n",
              "      border-color: transparent;\n",
              "      border-bottom-color: var(--fill-color);\n",
              "    }\n",
              "  }\n",
              "</style>\n",
              "\n",
              "  <script>\n",
              "    async function quickchart(key) {\n",
              "      const quickchartButtonEl =\n",
              "        document.querySelector('#' + key + ' button');\n",
              "      quickchartButtonEl.disabled = true;  // To prevent multiple clicks.\n",
              "      quickchartButtonEl.classList.add('colab-df-spinner');\n",
              "      try {\n",
              "        const charts = await google.colab.kernel.invokeFunction(\n",
              "            'suggestCharts', [key], {});\n",
              "      } catch (error) {\n",
              "        console.error('Error during call to suggestCharts:', error);\n",
              "      }\n",
              "      quickchartButtonEl.classList.remove('colab-df-spinner');\n",
              "      quickchartButtonEl.classList.add('colab-df-quickchart-complete');\n",
              "    }\n",
              "    (() => {\n",
              "      let quickchartButtonEl =\n",
              "        document.querySelector('#df-d517ad14-5522-4ebe-aa8f-5cbc66b60455 button');\n",
              "      quickchartButtonEl.style.display =\n",
              "        google.colab.kernel.accessAllowed ? 'block' : 'none';\n",
              "    })();\n",
              "  </script>\n",
              "</div>\n",
              "\n",
              "    </div>\n",
              "  </div>\n"
            ],
            "application/vnd.google.colaboratory.intrinsic+json": {
              "type": "dataframe",
              "repr_error": "cannot insert date, already exists"
            }
          },
          "metadata": {},
          "execution_count": 5
        }
      ],
      "source": [
        "wd = '/content/gdrive/MyDrive/Colab/prospectus/d_posts' ### Colab - gdrive\n",
        "\n",
        "#wd = 'C:/Users/sskee/OneDrive/Documents/02_tulane/01_research/03_prospectus/d_posts' ### Jupyter - local\n",
        "\n",
        "ds = []\n",
        "\n",
        "# Loop over .json.gz\n",
        "\n",
        "for filename in os.listdir(wd):\n",
        "    if filename.endswith('.json.gz'):\n",
        "        filepath = os.path.join(\n",
        "                                wd,\n",
        "                                filename,\n",
        "                                )\n",
        "        with gzip.open(\n",
        "                       filepath,\n",
        "                       'rt', ### 'open for reading', 'text mode'\n",
        "                       encoding = 'utf-8',\n",
        "                       ) as i:\n",
        "            data = [json.loads(line) for line in i]\n",
        "            d_gz = pd.DataFrame(data)\n",
        "            ds.append(d_gz)\n",
        "\n",
        "# Concatenate\n",
        "\n",
        "d = pd.concat(\n",
        "              ds,\n",
        "              ignore_index = True,\n",
        "              )\n",
        "\n",
        "# Harmonize\n",
        "\n",
        "d = d.dropna(\n",
        "             axis = 1,\n",
        "             how = 'any',\n",
        "             )\n",
        "\n",
        "# De-duplicate\n",
        "\n",
        "d = d.drop_duplicates(\n",
        "                      subset = 'id',\n",
        "                      )\n",
        "\n",
        "# Re-index\n",
        "\n",
        "d['date'] = pd.to_datetime(\n",
        "                           d.created_utc,\n",
        "                           unit = 's',\n",
        "                           )\n",
        "\n",
        "d.set_index(\n",
        "            'date',\n",
        "            drop = False,\n",
        "            inplace = True,\n",
        "            )\n",
        "\n",
        "# Inspect\n",
        "\n",
        "d.shape\n",
        "d.dtypes\n",
        "d.sample(3)"
      ]
    },
    {
      "cell_type": "markdown",
      "source": [
        "**_Format_**"
      ],
      "metadata": {
        "id": "iSRzM_RMTpdx"
      },
      "id": "iSRzM_RMTpdx"
    },
    {
      "cell_type": "code",
      "execution_count": 6,
      "id": "3926d762-394b-4ff3-a50a-fd56d40243d2",
      "metadata": {
        "id": "3926d762-394b-4ff3-a50a-fd56d40243d2",
        "colab": {
          "base_uri": "https://localhost:8080/",
          "height": 1000
        },
        "outputId": "dca7359d-f82b-4f18-ab71-fd6ba98a4eb9"
      },
      "outputs": [
        {
          "output_type": "execute_result",
          "data": {
            "text/plain": [
              "(424678, 20)"
            ]
          },
          "metadata": {},
          "execution_count": 6
        },
        {
          "output_type": "stream",
          "name": "stdout",
          "text": [
            "['SuicideWatch' 'Anxiety' 'depression' 'mentalhealth' 'trans'\n",
            " 'TheGirlSurvivalGuide' 'TwoXChromosomes']\n"
          ]
        },
        {
          "output_type": "execute_result",
          "data": {
            "text/plain": [
              "                 p_au       p_utc     p_date    p_id  n_cmnt  \\\n",
              "date                                                           \n",
              "2022-03-01  [deleted]  1646092800 2022-03-01  t3tuae       1   \n",
              "\n",
              "                                                         text          sbrt  \\\n",
              "date                                                                          \n",
              "2022-03-01  Anyone else have a corner in their room  that ...  SuicideWatch   \n",
              "\n",
              "            p_titl asp asp_rtnl dep dep_rtnl val val_rtnl prg tgd age race  \\\n",
              "date                                                                         \n",
              "2022-03-01  Corner                                                           \n",
              "\n",
              "           dbty insb  \n",
              "date                  \n",
              "2022-03-01            "
            ],
            "text/html": [
              "\n",
              "  <div id=\"df-a6f8d2b5-329d-4e02-a7bc-50746fc237e8\" class=\"colab-df-container\">\n",
              "    <div>\n",
              "<style scoped>\n",
              "    .dataframe tbody tr th:only-of-type {\n",
              "        vertical-align: middle;\n",
              "    }\n",
              "\n",
              "    .dataframe tbody tr th {\n",
              "        vertical-align: top;\n",
              "    }\n",
              "\n",
              "    .dataframe thead th {\n",
              "        text-align: right;\n",
              "    }\n",
              "</style>\n",
              "<table border=\"1\" class=\"dataframe\">\n",
              "  <thead>\n",
              "    <tr style=\"text-align: right;\">\n",
              "      <th></th>\n",
              "      <th>p_au</th>\n",
              "      <th>p_utc</th>\n",
              "      <th>p_date</th>\n",
              "      <th>p_id</th>\n",
              "      <th>n_cmnt</th>\n",
              "      <th>text</th>\n",
              "      <th>sbrt</th>\n",
              "      <th>p_titl</th>\n",
              "      <th>asp</th>\n",
              "      <th>asp_rtnl</th>\n",
              "      <th>dep</th>\n",
              "      <th>dep_rtnl</th>\n",
              "      <th>val</th>\n",
              "      <th>val_rtnl</th>\n",
              "      <th>prg</th>\n",
              "      <th>tgd</th>\n",
              "      <th>age</th>\n",
              "      <th>race</th>\n",
              "      <th>dbty</th>\n",
              "      <th>insb</th>\n",
              "    </tr>\n",
              "    <tr>\n",
              "      <th>date</th>\n",
              "      <th></th>\n",
              "      <th></th>\n",
              "      <th></th>\n",
              "      <th></th>\n",
              "      <th></th>\n",
              "      <th></th>\n",
              "      <th></th>\n",
              "      <th></th>\n",
              "      <th></th>\n",
              "      <th></th>\n",
              "      <th></th>\n",
              "      <th></th>\n",
              "      <th></th>\n",
              "      <th></th>\n",
              "      <th></th>\n",
              "      <th></th>\n",
              "      <th></th>\n",
              "      <th></th>\n",
              "      <th></th>\n",
              "      <th></th>\n",
              "    </tr>\n",
              "  </thead>\n",
              "  <tbody>\n",
              "    <tr>\n",
              "      <th>2022-03-01</th>\n",
              "      <td>[deleted]</td>\n",
              "      <td>1646092800</td>\n",
              "      <td>2022-03-01</td>\n",
              "      <td>t3tuae</td>\n",
              "      <td>1</td>\n",
              "      <td>Anyone else have a corner in their room  that ...</td>\n",
              "      <td>SuicideWatch</td>\n",
              "      <td>Corner</td>\n",
              "      <td></td>\n",
              "      <td></td>\n",
              "      <td></td>\n",
              "      <td></td>\n",
              "      <td></td>\n",
              "      <td></td>\n",
              "      <td></td>\n",
              "      <td></td>\n",
              "      <td></td>\n",
              "      <td></td>\n",
              "      <td></td>\n",
              "      <td></td>\n",
              "    </tr>\n",
              "  </tbody>\n",
              "</table>\n",
              "</div>\n",
              "    <div class=\"colab-df-buttons\">\n",
              "\n",
              "  <div class=\"colab-df-container\">\n",
              "    <button class=\"colab-df-convert\" onclick=\"convertToInteractive('df-a6f8d2b5-329d-4e02-a7bc-50746fc237e8')\"\n",
              "            title=\"Convert this dataframe to an interactive table.\"\n",
              "            style=\"display:none;\">\n",
              "\n",
              "  <svg xmlns=\"http://www.w3.org/2000/svg\" height=\"24px\" viewBox=\"0 -960 960 960\">\n",
              "    <path d=\"M120-120v-720h720v720H120Zm60-500h600v-160H180v160Zm220 220h160v-160H400v160Zm0 220h160v-160H400v160ZM180-400h160v-160H180v160Zm440 0h160v-160H620v160ZM180-180h160v-160H180v160Zm440 0h160v-160H620v160Z\"/>\n",
              "  </svg>\n",
              "    </button>\n",
              "\n",
              "  <style>\n",
              "    .colab-df-container {\n",
              "      display:flex;\n",
              "      gap: 12px;\n",
              "    }\n",
              "\n",
              "    .colab-df-convert {\n",
              "      background-color: #E8F0FE;\n",
              "      border: none;\n",
              "      border-radius: 50%;\n",
              "      cursor: pointer;\n",
              "      display: none;\n",
              "      fill: #1967D2;\n",
              "      height: 32px;\n",
              "      padding: 0 0 0 0;\n",
              "      width: 32px;\n",
              "    }\n",
              "\n",
              "    .colab-df-convert:hover {\n",
              "      background-color: #E2EBFA;\n",
              "      box-shadow: 0px 1px 2px rgba(60, 64, 67, 0.3), 0px 1px 3px 1px rgba(60, 64, 67, 0.15);\n",
              "      fill: #174EA6;\n",
              "    }\n",
              "\n",
              "    .colab-df-buttons div {\n",
              "      margin-bottom: 4px;\n",
              "    }\n",
              "\n",
              "    [theme=dark] .colab-df-convert {\n",
              "      background-color: #3B4455;\n",
              "      fill: #D2E3FC;\n",
              "    }\n",
              "\n",
              "    [theme=dark] .colab-df-convert:hover {\n",
              "      background-color: #434B5C;\n",
              "      box-shadow: 0px 1px 3px 1px rgba(0, 0, 0, 0.15);\n",
              "      filter: drop-shadow(0px 1px 2px rgba(0, 0, 0, 0.3));\n",
              "      fill: #FFFFFF;\n",
              "    }\n",
              "  </style>\n",
              "\n",
              "    <script>\n",
              "      const buttonEl =\n",
              "        document.querySelector('#df-a6f8d2b5-329d-4e02-a7bc-50746fc237e8 button.colab-df-convert');\n",
              "      buttonEl.style.display =\n",
              "        google.colab.kernel.accessAllowed ? 'block' : 'none';\n",
              "\n",
              "      async function convertToInteractive(key) {\n",
              "        const element = document.querySelector('#df-a6f8d2b5-329d-4e02-a7bc-50746fc237e8');\n",
              "        const dataTable =\n",
              "          await google.colab.kernel.invokeFunction('convertToInteractive',\n",
              "                                                    [key], {});\n",
              "        if (!dataTable) return;\n",
              "\n",
              "        const docLinkHtml = 'Like what you see? Visit the ' +\n",
              "          '<a target=\"_blank\" href=https://colab.research.google.com/notebooks/data_table.ipynb>data table notebook</a>'\n",
              "          + ' to learn more about interactive tables.';\n",
              "        element.innerHTML = '';\n",
              "        dataTable['output_type'] = 'display_data';\n",
              "        await google.colab.output.renderOutput(dataTable, element);\n",
              "        const docLink = document.createElement('div');\n",
              "        docLink.innerHTML = docLinkHtml;\n",
              "        element.appendChild(docLink);\n",
              "      }\n",
              "    </script>\n",
              "  </div>\n",
              "\n",
              "\n",
              "    </div>\n",
              "  </div>\n"
            ],
            "application/vnd.google.colaboratory.intrinsic+json": {
              "type": "dataframe",
              "summary": "{\n  \"name\": \"plt\",\n  \"rows\": 1,\n  \"fields\": [\n    {\n      \"column\": \"date\",\n      \"properties\": {\n        \"dtype\": \"date\",\n        \"min\": \"2022-03-01 00:00:00\",\n        \"max\": \"2022-03-01 00:00:00\",\n        \"num_unique_values\": 1,\n        \"samples\": [\n          \"2022-03-01 00:00:00\"\n        ],\n        \"semantic_type\": \"\",\n        \"description\": \"\"\n      }\n    },\n    {\n      \"column\": \"p_au\",\n      \"properties\": {\n        \"dtype\": \"string\",\n        \"num_unique_values\": 1,\n        \"samples\": [\n          \"[deleted]\"\n        ],\n        \"semantic_type\": \"\",\n        \"description\": \"\"\n      }\n    },\n    {\n      \"column\": \"p_utc\",\n      \"properties\": {\n        \"dtype\": \"date\",\n        \"min\": 1646092800,\n        \"max\": 1646092800,\n        \"num_unique_values\": 1,\n        \"samples\": [\n          1646092800\n        ],\n        \"semantic_type\": \"\",\n        \"description\": \"\"\n      }\n    },\n    {\n      \"column\": \"p_date\",\n      \"properties\": {\n        \"dtype\": \"date\",\n        \"min\": \"2022-03-01 00:00:00\",\n        \"max\": \"2022-03-01 00:00:00\",\n        \"num_unique_values\": 1,\n        \"samples\": [\n          \"2022-03-01 00:00:00\"\n        ],\n        \"semantic_type\": \"\",\n        \"description\": \"\"\n      }\n    },\n    {\n      \"column\": \"p_id\",\n      \"properties\": {\n        \"dtype\": \"string\",\n        \"num_unique_values\": 1,\n        \"samples\": [\n          \"t3tuae\"\n        ],\n        \"semantic_type\": \"\",\n        \"description\": \"\"\n      }\n    },\n    {\n      \"column\": \"n_cmnt\",\n      \"properties\": {\n        \"dtype\": \"number\",\n        \"std\": null,\n        \"min\": 1,\n        \"max\": 1,\n        \"num_unique_values\": 1,\n        \"samples\": [\n          1\n        ],\n        \"semantic_type\": \"\",\n        \"description\": \"\"\n      }\n    },\n    {\n      \"column\": \"text\",\n      \"properties\": {\n        \"dtype\": \"string\",\n        \"num_unique_values\": 1,\n        \"samples\": [\n          \"Anyone else have a corner in their room  that they back themselves into when having a breakdown? Something about having a wall at my back is comforting while I let it out.\"\n        ],\n        \"semantic_type\": \"\",\n        \"description\": \"\"\n      }\n    },\n    {\n      \"column\": \"sbrt\",\n      \"properties\": {\n        \"dtype\": \"string\",\n        \"num_unique_values\": 1,\n        \"samples\": [\n          \"SuicideWatch\"\n        ],\n        \"semantic_type\": \"\",\n        \"description\": \"\"\n      }\n    },\n    {\n      \"column\": \"p_titl\",\n      \"properties\": {\n        \"dtype\": \"string\",\n        \"num_unique_values\": 1,\n        \"samples\": [\n          \"Corner\"\n        ],\n        \"semantic_type\": \"\",\n        \"description\": \"\"\n      }\n    },\n    {\n      \"column\": \"asp\",\n      \"properties\": {\n        \"dtype\": \"string\",\n        \"num_unique_values\": 1,\n        \"samples\": [\n          \" \"\n        ],\n        \"semantic_type\": \"\",\n        \"description\": \"\"\n      }\n    },\n    {\n      \"column\": \"asp_rtnl\",\n      \"properties\": {\n        \"dtype\": \"string\",\n        \"num_unique_values\": 1,\n        \"samples\": [\n          \" \"\n        ],\n        \"semantic_type\": \"\",\n        \"description\": \"\"\n      }\n    },\n    {\n      \"column\": \"dep\",\n      \"properties\": {\n        \"dtype\": \"string\",\n        \"num_unique_values\": 1,\n        \"samples\": [\n          \" \"\n        ],\n        \"semantic_type\": \"\",\n        \"description\": \"\"\n      }\n    },\n    {\n      \"column\": \"dep_rtnl\",\n      \"properties\": {\n        \"dtype\": \"string\",\n        \"num_unique_values\": 1,\n        \"samples\": [\n          \" \"\n        ],\n        \"semantic_type\": \"\",\n        \"description\": \"\"\n      }\n    },\n    {\n      \"column\": \"val\",\n      \"properties\": {\n        \"dtype\": \"string\",\n        \"num_unique_values\": 1,\n        \"samples\": [\n          \" \"\n        ],\n        \"semantic_type\": \"\",\n        \"description\": \"\"\n      }\n    },\n    {\n      \"column\": \"val_rtnl\",\n      \"properties\": {\n        \"dtype\": \"string\",\n        \"num_unique_values\": 1,\n        \"samples\": [\n          \" \"\n        ],\n        \"semantic_type\": \"\",\n        \"description\": \"\"\n      }\n    },\n    {\n      \"column\": \"prg\",\n      \"properties\": {\n        \"dtype\": \"string\",\n        \"num_unique_values\": 1,\n        \"samples\": [\n          \" \"\n        ],\n        \"semantic_type\": \"\",\n        \"description\": \"\"\n      }\n    },\n    {\n      \"column\": \"tgd\",\n      \"properties\": {\n        \"dtype\": \"string\",\n        \"num_unique_values\": 1,\n        \"samples\": [\n          \" \"\n        ],\n        \"semantic_type\": \"\",\n        \"description\": \"\"\n      }\n    },\n    {\n      \"column\": \"age\",\n      \"properties\": {\n        \"dtype\": \"string\",\n        \"num_unique_values\": 1,\n        \"samples\": [\n          \" \"\n        ],\n        \"semantic_type\": \"\",\n        \"description\": \"\"\n      }\n    },\n    {\n      \"column\": \"race\",\n      \"properties\": {\n        \"dtype\": \"string\",\n        \"num_unique_values\": 1,\n        \"samples\": [\n          \" \"\n        ],\n        \"semantic_type\": \"\",\n        \"description\": \"\"\n      }\n    },\n    {\n      \"column\": \"dbty\",\n      \"properties\": {\n        \"dtype\": \"string\",\n        \"num_unique_values\": 1,\n        \"samples\": [\n          \" \"\n        ],\n        \"semantic_type\": \"\",\n        \"description\": \"\"\n      }\n    },\n    {\n      \"column\": \"insb\",\n      \"properties\": {\n        \"dtype\": \"string\",\n        \"num_unique_values\": 1,\n        \"samples\": [\n          \" \"\n        ],\n        \"semantic_type\": \"\",\n        \"description\": \"\"\n      }\n    }\n  ]\n}"
            }
          },
          "metadata": {},
          "execution_count": 6
        },
        {
          "output_type": "execute_result",
          "data": {
            "text/plain": [
              "                         p_au       p_utc              p_date    p_id  n_cmnt  \\\n",
              "date                                                                            \n",
              "2022-12-30 23:55:55  GnGPanda  1672444555 2022-12-30 23:55:55  zzfkr9       8   \n",
              "\n",
              "                                                                  text  \\\n",
              "date                                                                     \n",
              "2022-12-30 23:55:55  I'm quite confused. My (28F) last period was e...   \n",
              "\n",
              "                                sbrt  \\\n",
              "date                                   \n",
              "2022-12-30 23:55:55  TwoXChromosomes   \n",
              "\n",
              "                                                                p_titl asp  \\\n",
              "date                                                                         \n",
              "2022-12-30 23:55:55  Hurting breasts, no period, negative pregnancy...       \n",
              "\n",
              "                    asp_rtnl dep dep_rtnl val val_rtnl prg tgd age race dbty  \\\n",
              "date                                                                           \n",
              "2022-12-30 23:55:55                                                            \n",
              "\n",
              "                    insb  \n",
              "date                      \n",
              "2022-12-30 23:55:55       "
            ],
            "text/html": [
              "\n",
              "  <div id=\"df-076d4679-8e6e-4ab2-b9bf-1480323bbc3e\" class=\"colab-df-container\">\n",
              "    <div>\n",
              "<style scoped>\n",
              "    .dataframe tbody tr th:only-of-type {\n",
              "        vertical-align: middle;\n",
              "    }\n",
              "\n",
              "    .dataframe tbody tr th {\n",
              "        vertical-align: top;\n",
              "    }\n",
              "\n",
              "    .dataframe thead th {\n",
              "        text-align: right;\n",
              "    }\n",
              "</style>\n",
              "<table border=\"1\" class=\"dataframe\">\n",
              "  <thead>\n",
              "    <tr style=\"text-align: right;\">\n",
              "      <th></th>\n",
              "      <th>p_au</th>\n",
              "      <th>p_utc</th>\n",
              "      <th>p_date</th>\n",
              "      <th>p_id</th>\n",
              "      <th>n_cmnt</th>\n",
              "      <th>text</th>\n",
              "      <th>sbrt</th>\n",
              "      <th>p_titl</th>\n",
              "      <th>asp</th>\n",
              "      <th>asp_rtnl</th>\n",
              "      <th>dep</th>\n",
              "      <th>dep_rtnl</th>\n",
              "      <th>val</th>\n",
              "      <th>val_rtnl</th>\n",
              "      <th>prg</th>\n",
              "      <th>tgd</th>\n",
              "      <th>age</th>\n",
              "      <th>race</th>\n",
              "      <th>dbty</th>\n",
              "      <th>insb</th>\n",
              "    </tr>\n",
              "    <tr>\n",
              "      <th>date</th>\n",
              "      <th></th>\n",
              "      <th></th>\n",
              "      <th></th>\n",
              "      <th></th>\n",
              "      <th></th>\n",
              "      <th></th>\n",
              "      <th></th>\n",
              "      <th></th>\n",
              "      <th></th>\n",
              "      <th></th>\n",
              "      <th></th>\n",
              "      <th></th>\n",
              "      <th></th>\n",
              "      <th></th>\n",
              "      <th></th>\n",
              "      <th></th>\n",
              "      <th></th>\n",
              "      <th></th>\n",
              "      <th></th>\n",
              "      <th></th>\n",
              "    </tr>\n",
              "  </thead>\n",
              "  <tbody>\n",
              "    <tr>\n",
              "      <th>2022-12-30 23:55:55</th>\n",
              "      <td>GnGPanda</td>\n",
              "      <td>1672444555</td>\n",
              "      <td>2022-12-30 23:55:55</td>\n",
              "      <td>zzfkr9</td>\n",
              "      <td>8</td>\n",
              "      <td>I'm quite confused. My (28F) last period was e...</td>\n",
              "      <td>TwoXChromosomes</td>\n",
              "      <td>Hurting breasts, no period, negative pregnancy...</td>\n",
              "      <td></td>\n",
              "      <td></td>\n",
              "      <td></td>\n",
              "      <td></td>\n",
              "      <td></td>\n",
              "      <td></td>\n",
              "      <td></td>\n",
              "      <td></td>\n",
              "      <td></td>\n",
              "      <td></td>\n",
              "      <td></td>\n",
              "      <td></td>\n",
              "    </tr>\n",
              "  </tbody>\n",
              "</table>\n",
              "</div>\n",
              "    <div class=\"colab-df-buttons\">\n",
              "\n",
              "  <div class=\"colab-df-container\">\n",
              "    <button class=\"colab-df-convert\" onclick=\"convertToInteractive('df-076d4679-8e6e-4ab2-b9bf-1480323bbc3e')\"\n",
              "            title=\"Convert this dataframe to an interactive table.\"\n",
              "            style=\"display:none;\">\n",
              "\n",
              "  <svg xmlns=\"http://www.w3.org/2000/svg\" height=\"24px\" viewBox=\"0 -960 960 960\">\n",
              "    <path d=\"M120-120v-720h720v720H120Zm60-500h600v-160H180v160Zm220 220h160v-160H400v160Zm0 220h160v-160H400v160ZM180-400h160v-160H180v160Zm440 0h160v-160H620v160ZM180-180h160v-160H180v160Zm440 0h160v-160H620v160Z\"/>\n",
              "  </svg>\n",
              "    </button>\n",
              "\n",
              "  <style>\n",
              "    .colab-df-container {\n",
              "      display:flex;\n",
              "      gap: 12px;\n",
              "    }\n",
              "\n",
              "    .colab-df-convert {\n",
              "      background-color: #E8F0FE;\n",
              "      border: none;\n",
              "      border-radius: 50%;\n",
              "      cursor: pointer;\n",
              "      display: none;\n",
              "      fill: #1967D2;\n",
              "      height: 32px;\n",
              "      padding: 0 0 0 0;\n",
              "      width: 32px;\n",
              "    }\n",
              "\n",
              "    .colab-df-convert:hover {\n",
              "      background-color: #E2EBFA;\n",
              "      box-shadow: 0px 1px 2px rgba(60, 64, 67, 0.3), 0px 1px 3px 1px rgba(60, 64, 67, 0.15);\n",
              "      fill: #174EA6;\n",
              "    }\n",
              "\n",
              "    .colab-df-buttons div {\n",
              "      margin-bottom: 4px;\n",
              "    }\n",
              "\n",
              "    [theme=dark] .colab-df-convert {\n",
              "      background-color: #3B4455;\n",
              "      fill: #D2E3FC;\n",
              "    }\n",
              "\n",
              "    [theme=dark] .colab-df-convert:hover {\n",
              "      background-color: #434B5C;\n",
              "      box-shadow: 0px 1px 3px 1px rgba(0, 0, 0, 0.15);\n",
              "      filter: drop-shadow(0px 1px 2px rgba(0, 0, 0, 0.3));\n",
              "      fill: #FFFFFF;\n",
              "    }\n",
              "  </style>\n",
              "\n",
              "    <script>\n",
              "      const buttonEl =\n",
              "        document.querySelector('#df-076d4679-8e6e-4ab2-b9bf-1480323bbc3e button.colab-df-convert');\n",
              "      buttonEl.style.display =\n",
              "        google.colab.kernel.accessAllowed ? 'block' : 'none';\n",
              "\n",
              "      async function convertToInteractive(key) {\n",
              "        const element = document.querySelector('#df-076d4679-8e6e-4ab2-b9bf-1480323bbc3e');\n",
              "        const dataTable =\n",
              "          await google.colab.kernel.invokeFunction('convertToInteractive',\n",
              "                                                    [key], {});\n",
              "        if (!dataTable) return;\n",
              "\n",
              "        const docLinkHtml = 'Like what you see? Visit the ' +\n",
              "          '<a target=\"_blank\" href=https://colab.research.google.com/notebooks/data_table.ipynb>data table notebook</a>'\n",
              "          + ' to learn more about interactive tables.';\n",
              "        element.innerHTML = '';\n",
              "        dataTable['output_type'] = 'display_data';\n",
              "        await google.colab.output.renderOutput(dataTable, element);\n",
              "        const docLink = document.createElement('div');\n",
              "        docLink.innerHTML = docLinkHtml;\n",
              "        element.appendChild(docLink);\n",
              "      }\n",
              "    </script>\n",
              "  </div>\n",
              "\n",
              "\n",
              "    </div>\n",
              "  </div>\n"
            ],
            "application/vnd.google.colaboratory.intrinsic+json": {
              "type": "dataframe",
              "summary": "{\n  \"name\": \"plt\",\n  \"rows\": 1,\n  \"fields\": [\n    {\n      \"column\": \"date\",\n      \"properties\": {\n        \"dtype\": \"date\",\n        \"min\": \"2022-12-30 23:55:55\",\n        \"max\": \"2022-12-30 23:55:55\",\n        \"num_unique_values\": 1,\n        \"samples\": [\n          \"2022-12-30 23:55:55\"\n        ],\n        \"semantic_type\": \"\",\n        \"description\": \"\"\n      }\n    },\n    {\n      \"column\": \"p_au\",\n      \"properties\": {\n        \"dtype\": \"string\",\n        \"num_unique_values\": 1,\n        \"samples\": [\n          \"GnGPanda\"\n        ],\n        \"semantic_type\": \"\",\n        \"description\": \"\"\n      }\n    },\n    {\n      \"column\": \"p_utc\",\n      \"properties\": {\n        \"dtype\": \"date\",\n        \"min\": 1672444555,\n        \"max\": 1672444555,\n        \"num_unique_values\": 1,\n        \"samples\": [\n          1672444555\n        ],\n        \"semantic_type\": \"\",\n        \"description\": \"\"\n      }\n    },\n    {\n      \"column\": \"p_date\",\n      \"properties\": {\n        \"dtype\": \"date\",\n        \"min\": \"2022-12-30 23:55:55\",\n        \"max\": \"2022-12-30 23:55:55\",\n        \"num_unique_values\": 1,\n        \"samples\": [\n          \"2022-12-30 23:55:55\"\n        ],\n        \"semantic_type\": \"\",\n        \"description\": \"\"\n      }\n    },\n    {\n      \"column\": \"p_id\",\n      \"properties\": {\n        \"dtype\": \"string\",\n        \"num_unique_values\": 1,\n        \"samples\": [\n          \"zzfkr9\"\n        ],\n        \"semantic_type\": \"\",\n        \"description\": \"\"\n      }\n    },\n    {\n      \"column\": \"n_cmnt\",\n      \"properties\": {\n        \"dtype\": \"number\",\n        \"std\": null,\n        \"min\": 8,\n        \"max\": 8,\n        \"num_unique_values\": 1,\n        \"samples\": [\n          8\n        ],\n        \"semantic_type\": \"\",\n        \"description\": \"\"\n      }\n    },\n    {\n      \"column\": \"text\",\n      \"properties\": {\n        \"dtype\": \"string\",\n        \"num_unique_values\": 1,\n        \"samples\": [\n          \"I'm quite confused. My (28F) last period was end of Oct into early Nov. I took a pregnancy test a couple weeks after I missed my last cycle (should have been late Nov or 1st week of Dec), and it came up negative. For at least the past week now, I've been bloated/ up about 6lbs, and my breasts have been hurting nonstop, which for me only occurs a day or two before my period begins, but my period still hasn't come. I haven't noticed feeling any more stress, and have not had any drastic lifestyle changes... I'm stumped. Any ideas on what could be going on?\"\n        ],\n        \"semantic_type\": \"\",\n        \"description\": \"\"\n      }\n    },\n    {\n      \"column\": \"sbrt\",\n      \"properties\": {\n        \"dtype\": \"string\",\n        \"num_unique_values\": 1,\n        \"samples\": [\n          \"TwoXChromosomes\"\n        ],\n        \"semantic_type\": \"\",\n        \"description\": \"\"\n      }\n    },\n    {\n      \"column\": \"p_titl\",\n      \"properties\": {\n        \"dtype\": \"string\",\n        \"num_unique_values\": 1,\n        \"samples\": [\n          \"Hurting breasts, no period, negative pregnancy test?\"\n        ],\n        \"semantic_type\": \"\",\n        \"description\": \"\"\n      }\n    },\n    {\n      \"column\": \"asp\",\n      \"properties\": {\n        \"dtype\": \"string\",\n        \"num_unique_values\": 1,\n        \"samples\": [\n          \" \"\n        ],\n        \"semantic_type\": \"\",\n        \"description\": \"\"\n      }\n    },\n    {\n      \"column\": \"asp_rtnl\",\n      \"properties\": {\n        \"dtype\": \"string\",\n        \"num_unique_values\": 1,\n        \"samples\": [\n          \" \"\n        ],\n        \"semantic_type\": \"\",\n        \"description\": \"\"\n      }\n    },\n    {\n      \"column\": \"dep\",\n      \"properties\": {\n        \"dtype\": \"string\",\n        \"num_unique_values\": 1,\n        \"samples\": [\n          \" \"\n        ],\n        \"semantic_type\": \"\",\n        \"description\": \"\"\n      }\n    },\n    {\n      \"column\": \"dep_rtnl\",\n      \"properties\": {\n        \"dtype\": \"string\",\n        \"num_unique_values\": 1,\n        \"samples\": [\n          \" \"\n        ],\n        \"semantic_type\": \"\",\n        \"description\": \"\"\n      }\n    },\n    {\n      \"column\": \"val\",\n      \"properties\": {\n        \"dtype\": \"string\",\n        \"num_unique_values\": 1,\n        \"samples\": [\n          \" \"\n        ],\n        \"semantic_type\": \"\",\n        \"description\": \"\"\n      }\n    },\n    {\n      \"column\": \"val_rtnl\",\n      \"properties\": {\n        \"dtype\": \"string\",\n        \"num_unique_values\": 1,\n        \"samples\": [\n          \" \"\n        ],\n        \"semantic_type\": \"\",\n        \"description\": \"\"\n      }\n    },\n    {\n      \"column\": \"prg\",\n      \"properties\": {\n        \"dtype\": \"string\",\n        \"num_unique_values\": 1,\n        \"samples\": [\n          \" \"\n        ],\n        \"semantic_type\": \"\",\n        \"description\": \"\"\n      }\n    },\n    {\n      \"column\": \"tgd\",\n      \"properties\": {\n        \"dtype\": \"string\",\n        \"num_unique_values\": 1,\n        \"samples\": [\n          \" \"\n        ],\n        \"semantic_type\": \"\",\n        \"description\": \"\"\n      }\n    },\n    {\n      \"column\": \"age\",\n      \"properties\": {\n        \"dtype\": \"string\",\n        \"num_unique_values\": 1,\n        \"samples\": [\n          \" \"\n        ],\n        \"semantic_type\": \"\",\n        \"description\": \"\"\n      }\n    },\n    {\n      \"column\": \"race\",\n      \"properties\": {\n        \"dtype\": \"string\",\n        \"num_unique_values\": 1,\n        \"samples\": [\n          \" \"\n        ],\n        \"semantic_type\": \"\",\n        \"description\": \"\"\n      }\n    },\n    {\n      \"column\": \"dbty\",\n      \"properties\": {\n        \"dtype\": \"string\",\n        \"num_unique_values\": 1,\n        \"samples\": [\n          \" \"\n        ],\n        \"semantic_type\": \"\",\n        \"description\": \"\"\n      }\n    },\n    {\n      \"column\": \"insb\",\n      \"properties\": {\n        \"dtype\": \"string\",\n        \"num_unique_values\": 1,\n        \"samples\": [\n          \" \"\n        ],\n        \"semantic_type\": \"\",\n        \"description\": \"\"\n      }\n    }\n  ]\n}"
            }
          },
          "metadata": {},
          "execution_count": 6
        },
        {
          "output_type": "execute_result",
          "data": {
            "text/plain": [
              "<Axes: xlabel='date'>"
            ]
          },
          "metadata": {},
          "execution_count": 6
        },
        {
          "output_type": "execute_result",
          "data": {
            "text/plain": [
              "<matplotlib.legend.Legend at 0x78eaeb150370>"
            ]
          },
          "metadata": {},
          "execution_count": 6
        },
        {
          "output_type": "display_data",
          "data": {
            "text/plain": [
              "<Figure size 1200x800 with 1 Axes>"
            ],
            "image/png": "[encoded data removed]"
          },
          "metadata": {}
        }
      ],
      "source": [
        "def d_prep(d):\n",
        "    '''Prepares d for annotation'''\n",
        "    d = d[[\n",
        "           'author',\n",
        "           'created_utc',\n",
        "           'date',\n",
        "           'id',\n",
        "           'num_comments',\n",
        "           'selftext',\n",
        "           'subreddit',\n",
        "           'title',\n",
        "           ]].copy()\n",
        "\n",
        "    d.rename(\n",
        "             columns = {\n",
        "                        'author': 'p_au',\n",
        "                        'created_utc': 'p_utc',\n",
        "                        'date': 'p_date',\n",
        "                        'id': 'p_id',\n",
        "                        'num_comments': 'n_cmnt',\n",
        "                        'selftext': 'text',\n",
        "                        'subreddit': 'sbrt',\n",
        "                        'title': 'p_titl',\n",
        "                        }, inplace = True,\n",
        "            )\n",
        "\n",
        "    d = d.assign(\n",
        "                 asp = ' ',      ### STS\n",
        "                 asp_rtnl = ' ',\n",
        "                 dep = ' ',\n",
        "                 dep_rtnl = ' ',\n",
        "                 val = ' ',\n",
        "                 val_rtnl = ' ',\n",
        "                 prg = ' ',      ### explicit\n",
        "                 tgd = ' ',\n",
        "                 age = ' ',      ### hybrid\n",
        "                 race = ' ',     ### implicit\n",
        "                 dbty = ' ',\n",
        "                 insb = ' ',     ### insubstantial\n",
        "                 )\n",
        "\n",
        "    d = d[~d['text'].isin([\n",
        "                           '[deleted]',\n",
        "                           '[removed]',\n",
        "                           ])]\n",
        "\n",
        "    return d\n",
        "\n",
        "d = d_prep(d)\n",
        "\n",
        "# Restrict timeframe\n",
        "\n",
        "d = d.loc[(d['p_date'] >= '2022-01-01') & (d['p_date'] <= '2022-12-31')]\n",
        "\n",
        "# Verify\n",
        "\n",
        "d.shape\n",
        "sbrt = d['sbrt'].unique()\n",
        "print(sbrt)\n",
        "d.head(1)\n",
        "d.tail(1)\n",
        "\n",
        "# Plot\n",
        "\n",
        "monthly_counts = d.resample('M').sbrt.value_counts().unstack().fillna(0)\n",
        "\n",
        "fig, ax = plt.subplots(figsize=(10, 6))\n",
        "\n",
        "monthly_counts.plot(\n",
        "                    kind = 'line',\n",
        "                    ax = ax,\n",
        "                    )\n",
        "\n",
        "box = ax.get_position()\n",
        "\n",
        "ax.set_position(\n",
        "                [\n",
        "                 box.x0,\n",
        "                 box.y0,\n",
        "                 box.width * 0.8,\n",
        "                 box.height,\n",
        "                 ]\n",
        "                  )\n",
        "\n",
        "ax.legend(\n",
        "          loc = 'center left',\n",
        "          bbox_to_anchor=(1, 0.5),\n",
        "          )\n",
        "\n",
        "plt.show()"
      ]
    },
    {
      "cell_type": "markdown",
      "source": [
        "**_Parse by subreddit_**"
      ],
      "metadata": {
        "id": "mUFzr3RDaUKC"
      },
      "id": "mUFzr3RDaUKC"
    },
    {
      "cell_type": "code",
      "execution_count": 7,
      "id": "47188289-5ff4-4d0a-9c9c-953312ba3f81",
      "metadata": {
        "id": "47188289-5ff4-4d0a-9c9c-953312ba3f81"
      },
      "outputs": [],
      "source": [
        "def d_parse(d, col):\n",
        "    '''Parses d by subreddit'''\n",
        "    uniq_val = d[col].unique()\n",
        "    sub_d = {}\n",
        "    for val in uniq_val:\n",
        "        sub_d[f'd_{val}'] = d[d[col] == val].copy()\n",
        "\n",
        "    return sub_d\n",
        "\n",
        "sub_d = d_parse(\n",
        "                d,\n",
        "                'sbrt',\n",
        "                )"
      ]
    },
    {
      "cell_type": "markdown",
      "source": [
        "**_Subset A: strains (proxy)_**"
      ],
      "metadata": {
        "id": "DpUYKeifcTzK"
      },
      "id": "DpUYKeifcTzK"
    },
    {
      "cell_type": "code",
      "source": [
        "d_ax = sub_d['d_Anxiety']\n",
        "d_dp = sub_d['d_depression']\n",
        "d_mh = sub_d['d_mentalhealth']\n",
        "d_sw = sub_d['d_SuicideWatch']\n",
        "\n",
        "print('r/Anxiety')\n",
        "d_ax.shape\n",
        "print('\\nr/depression')\n",
        "d_dp.shape\n",
        "print('\\nr/mentalhealth')\n",
        "d_mh.shape\n",
        "print('\\nr/SuicideWatch')\n",
        "d_sw.shape"
      ],
      "metadata": {
        "colab": {
          "base_uri": "https://localhost:8080/"
        },
        "id": "FJePaFGmaJGr",
        "outputId": "b867c84e-117c-44de-b015-489b1142d3a9"
      },
      "id": "FJePaFGmaJGr",
      "execution_count": 8,
      "outputs": [
        {
          "output_type": "stream",
          "name": "stdout",
          "text": [
            "r/Anxiety\n"
          ]
        },
        {
          "output_type": "execute_result",
          "data": {
            "text/plain": [
              "(60328, 20)"
            ]
          },
          "metadata": {},
          "execution_count": 8
        },
        {
          "output_type": "stream",
          "name": "stdout",
          "text": [
            "\n",
            "r/depression\n"
          ]
        },
        {
          "output_type": "execute_result",
          "data": {
            "text/plain": [
              "(87403, 20)"
            ]
          },
          "metadata": {},
          "execution_count": 8
        },
        {
          "output_type": "stream",
          "name": "stdout",
          "text": [
            "\n",
            "r/mentalhealth\n"
          ]
        },
        {
          "output_type": "execute_result",
          "data": {
            "text/plain": [
              "(72075, 20)"
            ]
          },
          "metadata": {},
          "execution_count": 8
        },
        {
          "output_type": "stream",
          "name": "stdout",
          "text": [
            "\n",
            "r/SuicideWatch\n"
          ]
        },
        {
          "output_type": "execute_result",
          "data": {
            "text/plain": [
              "(90627, 20)"
            ]
          },
          "metadata": {},
          "execution_count": 8
        }
      ]
    },
    {
      "cell_type": "markdown",
      "source": [
        "**_Subset B: explicit BAR targets (proxy)_**"
      ],
      "metadata": {
        "id": "hPFu-CLqccop"
      },
      "id": "hPFu-CLqccop"
    },
    {
      "cell_type": "code",
      "execution_count": 9,
      "id": "f62709bd-acef-4221-9253-f16241b241a5",
      "metadata": {
        "tags": [],
        "id": "f62709bd-acef-4221-9253-f16241b241a5",
        "colab": {
          "base_uri": "https://localhost:8080/"
        },
        "outputId": "1e2501c5-6bdf-4266-da39-f41e1a4e6afd"
      },
      "outputs": [
        {
          "output_type": "stream",
          "name": "stdout",
          "text": [
            "r/TheGirlSurvivalGuide\n"
          ]
        },
        {
          "output_type": "execute_result",
          "data": {
            "text/plain": [
              "(4032, 20)"
            ]
          },
          "metadata": {},
          "execution_count": 9
        },
        {
          "output_type": "stream",
          "name": "stdout",
          "text": [
            "\n",
            "r/Trans\n"
          ]
        },
        {
          "output_type": "execute_result",
          "data": {
            "text/plain": [
              "(72667, 20)"
            ]
          },
          "metadata": {},
          "execution_count": 9
        },
        {
          "output_type": "stream",
          "name": "stdout",
          "text": [
            "\n",
            "r/TwoXChromosomes\n"
          ]
        },
        {
          "output_type": "execute_result",
          "data": {
            "text/plain": [
              "(37546, 20)"
            ]
          },
          "metadata": {},
          "execution_count": 9
        }
      ],
      "source": [
        "d_gs = sub_d['d_TheGirlSurvivalGuide']\n",
        "d_tr = sub_d['d_trans']\n",
        "d_tx = sub_d['d_TwoXChromosomes']\n",
        "\n",
        "print('r/TheGirlSurvivalGuide')\n",
        "d_gs.shape\n",
        "print('\\nr/Trans')\n",
        "d_tr.shape\n",
        "print('\\nr/TwoXChromosomes')\n",
        "d_tx.shape"
      ]
    },
    {
      "cell_type": "markdown",
      "id": "4f2c4f12-d0f1-4288-978e-45b91509a53a",
      "metadata": {
        "id": "4f2c4f12-d0f1-4288-978e-45b91509a53a"
      },
      "source": [
        "### Wave 1: purposive"
      ]
    },
    {
      "cell_type": "markdown",
      "source": [
        "**_Define <|PII|> redaction function_**"
      ],
      "metadata": {
        "id": "PT059gZFqh0A"
      },
      "id": "PT059gZFqh0A"
    },
    {
      "cell_type": "code",
      "source": [
        "#import spacy\n",
        "\n",
        "nlp = spacy.load('en_core_web_lg')\n",
        "\n",
        "def redact(p_text):\n",
        "    ne = list(\n",
        "              [\n",
        "               'PERSON',   ### people, including fictional\n",
        "               'NORP',     ### nationalities or religious or political groups\n",
        "               'FAC',      ### buildings, airports, highways, bridges, etc.\n",
        "               'ORG',      ### companies, agencies, institutions, etc.\n",
        "               #'GPE',     ### countries, cities, states\n",
        "               'LOC',      ### non-GPE locations, mountain ranges, bodies of water\n",
        "               'PRODUCT',  ### objects, vehicles, foods, etc. (not services)\n",
        "               'EVENT',    ### named hurricanes, battles, wars, sports events, etc.\n",
        "               ]\n",
        "                )\n",
        "\n",
        "    doc = nlp(p_text)\n",
        "    ne_to_remove = []\n",
        "    final_string = str(p_text)\n",
        "    for sent in doc.ents:\n",
        "        if sent.label_ in ne:\n",
        "            ne_to_remove.append(str(sent.text))\n",
        "    for n in range(len(ne_to_remove)):\n",
        "        final_string = final_string.replace(\n",
        "                                            ne_to_remove[n],\n",
        "                                            '<|PII|>',\n",
        "                                            )\n",
        "    return final_string\n",
        "\n",
        "#d['text'] = d['text'].astype(str).apply(lambda i: redact(i))"
      ],
      "metadata": {
        "id": "LDqO8-AeqpB9",
        "colab": {
          "base_uri": "https://localhost:8080/"
        },
        "outputId": "beced937-aead-4c81-836f-7539b0a97f6b"
      },
      "id": "LDqO8-AeqpB9",
      "execution_count": 10,
      "outputs": [
        {
          "output_type": "stream",
          "name": "stderr",
          "text": [
            "/usr/local/lib/python3.10/dist-packages/spacy/util.py:1740: UserWarning: [W111] Jupyter notebook detected: if using `prefer_gpu()` or `require_gpu()`, include it in the same cell right before `spacy.load()` to ensure that the model is loaded on the correct device. More information: http://spacy.io/usage/v3#jupyter-notebook-gpu\n",
            "  warnings.warn(Warnings.W111)\n"
          ]
        }
      ]
    },
    {
      "cell_type": "markdown",
      "id": "ead8b73a-ea40-423d-986e-2f80f608f550",
      "metadata": {
        "id": "ead8b73a-ea40-423d-986e-2f80f608f550"
      },
      "source": [
        "#### Cycle 0 (pilot)"
      ]
    },
    {
      "cell_type": "markdown",
      "source": [
        "**_r/SuicideWatch_**"
      ],
      "metadata": {
        "id": "wKGuo94OrpDI"
      },
      "id": "wKGuo94OrpDI"
    },
    {
      "cell_type": "code",
      "execution_count": null,
      "id": "0dbb7b26-1086-4a72-a374-7d4548066e11",
      "metadata": {
        "collapsed": true,
        "jupyter": {
          "outputs_hidden": true,
          "source_hidden": true
        },
        "tags": [],
        "id": "0dbb7b26-1086-4a72-a374-7d4548066e11"
      },
      "outputs": [],
      "source": [
        "'.gend\\S*|pregnan\\S*' ### a priori/canonical\n",
        "'trans|non-?binary|dysphor\\S*|hormone|abort\\S*|dobbs|roe' ### inductively derived\n",
        "\n",
        "rg = re.compile('.gend\\S*|pregnan\\S*|trans|non-?binary|dysphor\\S*|hormone|abort\\S*|dobbs|roe', re.I)\n",
        "\n",
        "d = d.loc[d['text'].str.contains(\n",
        "                                 rg,\n",
        "                                 regex = True,\n",
        "                                 )]\n",
        "\n",
        "d['text'] = d['text'].astype(str).apply(lambda i: redact(i))\n",
        "d.shape\n",
        "\n",
        "# Export: 'd_cycle*.xlsx'\n",
        "\n",
        "os.chdir('C:/Users/sskee/OneDrive/Documents/02_tulane/01_research/03_prospectus/annotation/d_raw')\n",
        "#%pwd\n",
        "\n",
        "d.to_excel('d_cycle1.xlsx')"
      ]
    },
    {
      "cell_type": "markdown",
      "id": "a5028f6a-24a8-40f7-a54a-780b0177f335",
      "metadata": {
        "id": "a5028f6a-24a8-40f7-a54a-780b0177f335"
      },
      "source": [
        "#### Cycle 1"
      ]
    },
    {
      "cell_type": "markdown",
      "source": [
        "**Subset A**<br>\n",
        "r/Anxiety, r/Depression, r/MentalHealth, r/SuicideWatch\n",
        "\n",
        "**Subset B**<br>\n",
        "r/Trans"
      ],
      "metadata": {
        "id": "FiXcI80YuwDE"
      },
      "id": "FiXcI80YuwDE"
    },
    {
      "cell_type": "code",
      "execution_count": null,
      "id": "eafbec81-c434-4593-87dd-bdec313b1908",
      "metadata": {
        "jupyter": {
          "source_hidden": true
        },
        "tags": [],
        "id": "eafbec81-c434-4593-87dd-bdec313b1908"
      },
      "outputs": [],
      "source": [
        "d_a = pd.concat([\n",
        "                 d_ax,\n",
        "                 d_dp,\n",
        "                 d_mh,\n",
        "                 d_sw,\n",
        "                 ])\n",
        "\n",
        "d_a.reset_index(\n",
        "                drop = True,\n",
        "                inplace = True,\n",
        "                )\n",
        "\n",
        "d_b = d_tr.copy()"
      ]
    },
    {
      "cell_type": "code",
      "execution_count": null,
      "id": "983c8be1-1e48-4211-a8ea-c5dbb2393a05",
      "metadata": {
        "collapsed": true,
        "jupyter": {
          "outputs_hidden": true,
          "source_hidden": true
        },
        "tags": [],
        "id": "983c8be1-1e48-4211-a8ea-c5dbb2393a05"
      },
      "outputs": [],
      "source": [
        "# Subset A: r/anxiety, r/depression, r/mentalhealth, r/SuicideWatch\n",
        "\n",
        "'.gend\\S*|pregnan\\S*' ### a priori/canonical\n",
        "'trans|non-?binary|dysphor\\S*|hormone|abort\\S*|dobbs|roe' ### inductively derived\n",
        "\n",
        "rg_a = re.compile('.gend\\S*|pregnan\\S*|trans|non-?binary|dysphor\\S*|hormone|abort\\S*|dobbs|roe', re.I)\n",
        "\n",
        "d_a = d_a.loc[d_a['text'].str.contains(\n",
        "                                       rg_a,\n",
        "                                       regex = True,\n",
        "                                       )]\n",
        "\n",
        "d_a.shape\n",
        "\n",
        "# Subset B: r/trans\n",
        "\n",
        "'.criminal\\S*|restrict\\S*|.law|.legal\\S*' ### a priori/canonical\n",
        "\n",
        "rg_b = re.compile('.criminal\\S*|restrict\\S*|.law|.legal\\S*', re.I)\n",
        "\n",
        "d_b = d_b.loc[d_b['text'].str.contains(\n",
        "                                       rg_b,\n",
        "                                       regex = True,\n",
        "                                       )]\n",
        "\n",
        "d_b.shape"
      ]
    },
    {
      "cell_type": "code",
      "execution_count": null,
      "id": "ba376f5f-dc54-4253-858d-b40d677674c2",
      "metadata": {
        "collapsed": true,
        "jupyter": {
          "outputs_hidden": true,
          "source_hidden": true
        },
        "tags": [],
        "id": "ba376f5f-dc54-4253-858d-b40d677674c2"
      },
      "outputs": [],
      "source": [
        "d = pd.concat([\n",
        "               d_a, # n = 9740\n",
        "               d_b, # n = 1505\n",
        "               ])\n",
        "\n",
        "d.shape # N = 11245"
      ]
    },
    {
      "cell_type": "markdown",
      "source": [
        "**Export: 'd_cycle*.xlsx'**"
      ],
      "metadata": {
        "id": "ux5HGk7BzC1m"
      },
      "id": "ux5HGk7BzC1m"
    },
    {
      "cell_type": "code",
      "execution_count": null,
      "id": "12af9766-e4e3-4b44-8ff4-7a446e9715e9",
      "metadata": {
        "jupyter": {
          "source_hidden": true
        },
        "tags": [],
        "id": "12af9766-e4e3-4b44-8ff4-7a446e9715e9"
      },
      "outputs": [],
      "source": [
        "d = d.sample(n = 100)\n",
        "\n",
        "d['text'] = d['text'].astype(str).apply(lambda i: redact(i))\n",
        "d.shape\n",
        "\n",
        "# Export: 'd_cycle*.xlsx'\n",
        "\n",
        "os.chdir('C:/Users/sskee/OneDrive/Documents/02_tulane/01_research/03_prospectus/annotation/d_raw')\n",
        "#%pwd\n",
        "\n",
        "d.to_excel('d_cycle1.xlsx')"
      ]
    },
    {
      "cell_type": "markdown",
      "id": "18ce88a8-8c48-4619-9b27-530961c30704",
      "metadata": {
        "id": "18ce88a8-8c48-4619-9b27-530961c30704"
      },
      "source": [
        "####Cycle 2"
      ]
    },
    {
      "cell_type": "markdown",
      "source": [
        "**Subset A**<br>\n",
        "r/Depression, r/SuicideWatch<br>\n",
        "\n",
        "**Subset B**<br>\n",
        "r/Trans"
      ],
      "metadata": {
        "id": "nOWKSL-6gmdq"
      },
      "id": "nOWKSL-6gmdq"
    },
    {
      "cell_type": "code",
      "execution_count": null,
      "id": "c3ee602f-c615-4c5c-a221-7f3c19532b6e",
      "metadata": {
        "id": "c3ee602f-c615-4c5c-a221-7f3c19532b6e"
      },
      "outputs": [],
      "source": [
        "d_a = pd.concat([\n",
        "                 d_dp,\n",
        "                 d_sw,\n",
        "                 ])\n",
        "\n",
        "        ### SJS 5/22: dropping r/Anxiety, r/mentalhealth\n",
        "\n",
        "d_a.reset_index(\n",
        "                drop = True,\n",
        "                inplace = True,\n",
        "                )\n",
        "\n",
        "d_b = d_tr.copy()"
      ]
    },
    {
      "cell_type": "code",
      "execution_count": null,
      "id": "f2ab871f-6c39-43b0-ac38-24231efcf59e",
      "metadata": {
        "id": "f2ab871f-6c39-43b0-ac38-24231efcf59e"
      },
      "outputs": [],
      "source": [
        "# Subset A\n",
        "\n",
        "'.gend\\S*|pregnan\\S*' ### a priori/canonical\n",
        "'trans|non-?binary|dysphor\\S*|hormone|abort\\S*|dobbs|roe' ### inductively derived\n",
        "\n",
        "rg_a = re.compile('.gend\\S*|pregnan\\S*|trans|non-?binary|dysphor\\S*|hormone|abort\\S*|dobbs|roe', re.I)\n",
        "\n",
        "d_a = d_a.loc[d_a['text'].str.contains(\n",
        "                                       rg_a,\n",
        "                                       regex = True,\n",
        "                                       )]\n",
        "\n",
        "d_a.shape\n",
        "\n",
        "# Subset B\n",
        "\n",
        "'.criminal\\S*|restrict\\S*|illegal\\S*|outlaw\\S*|suicid\\S*' ### a priori/canonical\n",
        "\n",
        "rg_b = re.compile('.criminal\\S*|restrict\\S*|illegal\\S*|outlaw\\S*|suicid\\S*', re.I)\n",
        "\n",
        "d_b = d_b.loc[d_b['text'].str.contains(\n",
        "                                       rg_b,\n",
        "                                       regex = True,\n",
        "                                       )]\n",
        "\n",
        "d_b.shape"
      ]
    },
    {
      "cell_type": "code",
      "execution_count": null,
      "id": "c8964d6f-f254-4358-b37f-69f8ea317c93",
      "metadata": {
        "id": "c8964d6f-f254-4358-b37f-69f8ea317c93"
      },
      "outputs": [],
      "source": [
        "d = pd.concat([\n",
        "               d_a, # n = 5602\n",
        "               d_b, # n = 729\n",
        "               ])\n",
        "\n",
        "d.shape # N = 11245"
      ]
    },
    {
      "cell_type": "markdown",
      "source": [
        "**Export: 'd_cycle*.xlsx'**"
      ],
      "metadata": {
        "id": "be1AwjXmy_La"
      },
      "id": "be1AwjXmy_La"
    },
    {
      "cell_type": "code",
      "execution_count": null,
      "id": "927c9db4-14e1-49b4-ba2f-f5f0ab6a7379",
      "metadata": {
        "id": "927c9db4-14e1-49b4-ba2f-f5f0ab6a7379"
      },
      "outputs": [],
      "source": [
        "d = d.sample(n = 100)\n",
        "\n",
        "d['text'] = d['text'].astype(str).apply(lambda i: redact(i))\n",
        "\n",
        "# Export: 'd_cycle*.xlsx'\n",
        "\n",
        "os.chdir('C:/Users/sskee/OneDrive/Documents/02_tulane/01_research/03_prospectus/annotation/d_raw')\n",
        "#%pwd\n",
        "\n",
        "d.to_excel('d_cycle2.xlsx')"
      ]
    },
    {
      "cell_type": "markdown",
      "source": [
        "#### Cycle 3"
      ],
      "metadata": {
        "id": "2shHgKynpQeT"
      },
      "id": "2shHgKynpQeT"
    },
    {
      "cell_type": "markdown",
      "source": [
        "**Subset A**<br>\n",
        "r/Depression, r/SuicideWatch<br>\n",
        "\n",
        "**Subset B**<br>\n",
        "r/TheGirlsSurvivalGuide, r/Trans, r/TwoXChromosomes"
      ],
      "metadata": {
        "id": "XLBtV8Yftiu8"
      },
      "id": "XLBtV8Yftiu8"
    },
    {
      "cell_type": "code",
      "source": [
        "d_a = pd.concat([\n",
        "                 d_dp,\n",
        "                 d_sw,\n",
        "                 ])\n",
        "\n",
        "d_a.reset_index(\n",
        "                drop = True,\n",
        "                inplace = True,\n",
        "                )\n",
        "\n",
        "d_b = pd.concat([\n",
        "                 d_gs,\n",
        "                 d_tr,\n",
        "                 d_tx,\n",
        "                 ])\n",
        "\n",
        "d_b.reset_index(\n",
        "                drop = True,\n",
        "                inplace = True,\n",
        "                )"
      ],
      "metadata": {
        "id": "IYAzTh5TqdJI"
      },
      "id": "IYAzTh5TqdJI",
      "execution_count": 11,
      "outputs": []
    },
    {
      "cell_type": "code",
      "source": [
        "# Subset A\n",
        "\n",
        "'.gend\\S*|pregnan\\S*' ### a priori/canonical\n",
        "'trans|non-?binary|dysphor\\S*|hormone|abort\\S*|dobbs|roe' ### inductively derived\n",
        "\n",
        "rg_a = re.compile('.gend\\S*|pregnan\\S*|trans|non-?binary|dysphor\\S*|hormone|abort\\S*|dobbs|roe', re.I)\n",
        "\n",
        "d_a = d_a.loc[d_a['text'].str.contains(\n",
        "                                       rg_a,\n",
        "                                       regex = True,\n",
        "                                       )]\n",
        "\n",
        "d_a.shape\n",
        "\n",
        "# Subset B\n",
        "\n",
        "'.criminal\\S*|restrict\\S*|illegal\\S*|outlaw\\S*|suicid\\S*' ### a priori/canonical\n",
        "\n",
        "rg_b = re.compile('.criminal\\S*|restrict\\S*|illegal\\S*|outlaw\\S*|suicid\\S*', re.I)\n",
        "\n",
        "d_b = d_b.loc[d_b['text'].str.contains(\n",
        "                                       rg_b,\n",
        "                                       regex = True,\n",
        "                                       )]\n",
        "\n",
        "d_b.shape"
      ],
      "metadata": {
        "colab": {
          "base_uri": "https://localhost:8080/",
          "height": 107
        },
        "collapsed": true,
        "id": "OpTUs671hR-p",
        "outputId": "7c74ce8c-aa3f-4231-881a-36c185ff7f1d"
      },
      "id": "OpTUs671hR-p",
      "execution_count": 12,
      "outputs": [
        {
          "output_type": "execute_result",
          "data": {
            "text/plain": [
              "'.gend\\\\S*|pregnan\\\\S*'"
            ],
            "application/vnd.google.colaboratory.intrinsic+json": {
              "type": "string"
            }
          },
          "metadata": {},
          "execution_count": 12
        },
        {
          "output_type": "execute_result",
          "data": {
            "text/plain": [
              "'trans|non-?binary|dysphor\\\\S*|hormone|abort\\\\S*|dobbs|roe'"
            ],
            "application/vnd.google.colaboratory.intrinsic+json": {
              "type": "string"
            }
          },
          "metadata": {},
          "execution_count": 12
        },
        {
          "output_type": "execute_result",
          "data": {
            "text/plain": [
              "(5602, 20)"
            ]
          },
          "metadata": {},
          "execution_count": 12
        },
        {
          "output_type": "execute_result",
          "data": {
            "text/plain": [
              "'.criminal\\\\S*|restrict\\\\S*|illegal\\\\S*|outlaw\\\\S*|suicid\\\\S*'"
            ],
            "application/vnd.google.colaboratory.intrinsic+json": {
              "type": "string"
            }
          },
          "metadata": {},
          "execution_count": 12
        },
        {
          "output_type": "execute_result",
          "data": {
            "text/plain": [
              "(1971, 20)"
            ]
          },
          "metadata": {},
          "execution_count": 12
        }
      ]
    },
    {
      "cell_type": "code",
      "source": [
        "d = pd.concat([\n",
        "               d_a, # n = 5602\n",
        "               d_b, # n = 1971\n",
        "               ])\n",
        "\n",
        "d.shape # N = 7573"
      ],
      "metadata": {
        "colab": {
          "base_uri": "https://localhost:8080/"
        },
        "id": "J1tW8ghThSCs",
        "outputId": "531f040e-1c16-439e-b642-ac5c97d2b70c"
      },
      "id": "J1tW8ghThSCs",
      "execution_count": 17,
      "outputs": [
        {
          "output_type": "execute_result",
          "data": {
            "text/plain": [
              "(7573, 20)"
            ]
          },
          "metadata": {},
          "execution_count": 17
        }
      ]
    },
    {
      "cell_type": "markdown",
      "source": [
        "**Export: 'd_cycle*.xlsx'**"
      ],
      "metadata": {
        "id": "9XpPMuchxCd_"
      },
      "id": "9XpPMuchxCd_"
    },
    {
      "cell_type": "code",
      "source": [
        "d = d.sample(n = 150)\n",
        "\n",
        "d['text'] = d['text'].astype(str).apply(lambda i: redact(i))\n",
        "\n",
        "#os.chdir('C:/Users/sskee/OneDrive/Documents/02_tulane/01_research/03_prospectus/annotation/d_raw')\n",
        "#%pwd\n",
        "\n",
        "%cd gdrive/My Drive/Colab/prospectus/annotation/d_raw\n",
        "\n",
        "d.to_excel('d_cycle3.xlsx')"
      ],
      "metadata": {
        "id": "RttpdblchSH-"
      },
      "id": "RttpdblchSH-",
      "execution_count": 15,
      "outputs": []
    },
    {
      "cell_type": "code",
      "source": [
        "# Random subset - Cycle 999\n",
        "\n",
        "d_999 = d.sample(n = 1000)\n",
        "\n",
        "d_999['text'] = d_999['text'].astype(str).apply(lambda i: redact(i))\n",
        "\n",
        "d_999.to_excel('d_cycle999.xlsx')"
      ],
      "metadata": {
        "id": "_jBCboc-wG6e"
      },
      "id": "_jBCboc-wG6e",
      "execution_count": 18,
      "outputs": []
    },
    {
      "cell_type": "markdown",
      "id": "db7f1217-bbf0-4f7a-9de4-9a82bfc7ed9d",
      "metadata": {
        "id": "db7f1217-bbf0-4f7a-9de4-9a82bfc7ed9d"
      },
      "source": [
        "### Post-annotation\n",
        "***"
      ]
    },
    {
      "cell_type": "code",
      "execution_count": null,
      "id": "b693250e-ed64-44d5-a2b7-afe6cd981e02",
      "metadata": {
        "id": "b693250e-ed64-44d5-a2b7-afe6cd981e02"
      },
      "outputs": [],
      "source": [
        "# Import + calibrate\n",
        "\n",
        "import numpy as np\n",
        "import os\n",
        "import pandas as pd\n",
        "\n",
        "from IPython.core.interactiveshell import InteractiveShell\n",
        "InteractiveShell.ast_node_interactivity = 'all'\n",
        "\n",
        "from irrCAC.raw import CAC\n",
        "\n",
        "from sklearn.metrics import cohen_kappa_score\n",
        "\n",
        "pd.set_option('display.max_columns', None)\n",
        "\n",
        "#!python -m prodigy stats"
      ]
    },
    {
      "cell_type": "code",
      "execution_count": null,
      "id": "c211cd41-b7a4-41b1-80d3-c6e27890ed61",
      "metadata": {
        "tags": [],
        "id": "c211cd41-b7a4-41b1-80d3-c6e27890ed61"
      },
      "outputs": [],
      "source": [
        "# C:/Users/sskee/OneDrive/Documents/02_tulane/01_research/03_prospectus/annotation\n",
        "\n",
        "os.chdir('C:/Users/sskee/OneDrive/Documents/02_tulane/01_research/03_prospectus/annotation')\n",
        "#%pwd\n",
        "\n",
        "sd = 'C:/Users/sskee/OneDrive/Documents/02_tulane/01_research/03_prospectus/annotation/d_cycle2_sd.xlsx'\n",
        "d_sd = pd.read_excel(sd)\n",
        "#d_sd.dtypes\n",
        "\n",
        "#d_sd = d_sd.replace(' ', 0)\n",
        "d_sd.columns = [f'{col}_sd' for col in d_sd.columns]\n",
        "\n",
        "ss = 'C:/Users/sskee/OneDrive/Documents/02_tulane/01_research/03_prospectus/annotation/d_cycle2_ss.xlsx'\n",
        "d_ss = pd.read_excel(ss)\n",
        "\n",
        "#d_ss = d_ss.replace(' ', 0)\n",
        "d_ss.columns = [f'{col}_ss' for col in d_ss.columns]\n",
        "\n",
        "# Inspect\n",
        "\n",
        "#d_sd.head(3)\n",
        "#d_ss.head(3)\n",
        "\n",
        "# Merge\n",
        "\n",
        "d = pd.merge(\n",
        "             d_sd,\n",
        "             d_ss,\n",
        "             left_index = True,\n",
        "             right_index = True,\n",
        "             )\n",
        "\n",
        "targets = [\n",
        "           'asp_sd', 'asp_ss',\n",
        "           'dep_sd', 'dep_ss',\n",
        "           'val_sd', 'val_ss',\n",
        "           'prg_sd', 'prg_ss',\n",
        "           'tgd_sd', 'tgd_ss',\n",
        "           'age_sd', 'age_ss',\n",
        "           'race_sd', 'race_ss',\n",
        "           'dbty_sd', 'dbty_ss',\n",
        "           'insb_sd', 'insb_ss',\n",
        "            ]\n",
        "\n",
        "#d = d[targets].copy()\n",
        "\n",
        "d = d.fillna(0)\n",
        "d = d.replace(' ', 0)\n",
        "#d = d.apply(pd.to_numeric, errors='coerce')\n",
        "d[targets] = d[targets].apply(\n",
        "                              pd.to_numeric,\n",
        "                              errors = 'coerce',\n",
        "                              )\n",
        "\n",
        "d = d[[\n",
        "        #targets,\n",
        "        'p_id_sd', 'p_id_ss', ### sense-check for bad merge\n",
        "        'text_sd',\n",
        "        'asp_sd', 'asp_ss',\n",
        "        'asp_rtnl_sd', 'asp_rtnl_ss',\n",
        "        'dep_sd', 'dep_ss',\n",
        "        'dep_rtnl_sd', 'dep_rtnl_ss',\n",
        "        'val_sd', 'val_ss',\n",
        "        'val_rtnl_sd', 'val_rtnl_ss',\n",
        "        'prg_sd', 'prg_ss',\n",
        "        'tgd_sd', 'tgd_ss',\n",
        "        'age_sd', 'age_ss',\n",
        "        'race_sd', 'race_ss',\n",
        "        'dbty_sd', 'dbty_ss',\n",
        "        'insb_sd', 'insb_ss',\n",
        "        ]].copy()\n",
        "\n",
        "d.rename(\n",
        "           columns = {\n",
        "                      'p_id_sd': 'p_id',\n",
        "                      'text_sd': 'text',\n",
        "                      }, inplace = True,\n",
        "          )\n",
        "\n",
        "#d.to_excel('iaa_inspect.xlsx')\n",
        "\n",
        "# Drop insb = 1 (either annotator)\n",
        "\n",
        "d = d[(d['insb_sd'] != 1) & (d['insb_ss'] != 1)]\n",
        "\n",
        "'n valid'\n",
        "d.shape\n",
        "\n",
        "# Convert to numpy array\n",
        "\n",
        "#for target in targets:\n",
        "#    target = d[target].to_numpy()\n",
        "\n",
        "# Function to calculate Cohen's Kappa score for a pair of columns\n",
        "def calculate_kappa(d, col_sd, col_ss):\n",
        "    return cohen_kappa_score(d[col_sd], d[col_ss])\n",
        "\n",
        "# List of column pairs to check\n",
        "column_pairs = [\n",
        "                ('asp_sd', 'asp_ss'),\n",
        "                ('dep_sd', 'dep_ss'),\n",
        "                ('val_sd', 'val_ss'),\n",
        "                ('prg_sd', 'prg_ss'),\n",
        "                ('tgd_sd', 'tgd_ss'),\n",
        "                ('age_sd', 'age_ss'),\n",
        "                ('race_sd', 'race_ss'),\n",
        "                ('dbty_sd', 'dbty_ss'),\n",
        "                ]\n",
        "\n",
        "# Dictionary to store the results\n",
        "kappa_results = {}\n",
        "\n",
        "# Loop through the column pairs and calculate Cohen's Kappa score\n",
        "for col_sd, col_ss in column_pairs:\n",
        "    kappa = calculate_kappa(d, col_sd, col_ss)\n",
        "    kappa_results[f'{col_sd} and {col_ss}'] = kappa\n",
        "\n",
        "# Display the results\n",
        "for pair, kappa in kappa_results.items():\n",
        "    print(f\"Cohen's Kappa for {pair}: {kappa:.2f}\")\n",
        "\n",
        "\n",
        "# Dummy code disagreements - inspection, triangulation\n",
        "\n",
        "# Define the mismatch checking function\n",
        "\n",
        "def d_disagree(row):\n",
        "    return 1 if row[0] != row[1] else 0\n",
        "\n",
        "# List of column pairs and corresponding new column names\n",
        "\n",
        "sts_pairs = [('asp_sd', 'asp_ss', 'asp_dis'),\n",
        "             ('dep_sd', 'dep_ss', 'dep_dis'),\n",
        "             ('val_sd', 'val_ss', 'val_dis')]\n",
        "\n",
        "# Iterate through each pair of columns\n",
        "for col1, col2, dis_col in sts_pairs:\n",
        "    # Apply the check_mismatch function row-wise and assign results to a new column\n",
        "    d[dis_col] = d[[col1, col2]].apply(d_disagree, axis = 1)\n",
        "\n",
        "\n",
        "d.to_excel('iaa_cycle1.xlsx')"
      ]
    },
    {
      "cell_type": "markdown",
      "id": "6336ff2d-94e0-4d83-9c34-af0260603a5f",
      "metadata": {
        "id": "6336ff2d-94e0-4d83-9c34-af0260603a5f"
      },
      "source": [
        "> End of bar_sample_annotate_iaa.ipynb (04-17-2024)"
      ]
    }
  ],
  "metadata": {
    "kernelspec": {
      "display_name": "Python 3",
      "name": "python3"
    },
    "language_info": {
      "codemirror_mode": {
        "name": "ipython",
        "version": 3
      },
      "file_extension": ".py",
      "mimetype": "text/x-python",
      "name": "python",
      "nbconvert_exporter": "python",
      "pygments_lexer": "ipython3",
      "version": "3.9.13"
    },
    "colab": {
      "provenance": [],
      "machine_shape": "hm",
      "collapsed_sections": [
        "ead8b73a-ea40-423d-986e-2f80f608f550",
        "a5028f6a-24a8-40f7-a54a-780b0177f335",
        "18ce88a8-8c48-4619-9b27-530961c30704"
      ],
      "gpuType": "T4"
    },
    "accelerator": "GPU"
  },
  "nbformat": 4,
  "nbformat_minor": 5
}