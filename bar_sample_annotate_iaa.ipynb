{
  "cells": [
    {
      "cell_type": "markdown",
      "id": "4efe4976-f441-4822-90e8-04a11e9bd35b",
      "metadata": {
        "id": "4efe4976-f441-4822-90e8-04a11e9bd35b"
      },
      "source": [
        "# Prospectus"
      ]
    },
    {
      "cell_type": "markdown",
      "id": "cbcf1a84-27d2-46d1-be12-fef115a5e383",
      "metadata": {
        "id": "cbcf1a84-27d2-46d1-be12-fef115a5e383"
      },
      "source": [
        "_Imports, re-indexes by date, cleans, reduces, restricts by timeframe; permits regex pattern-matched purposive (Wave 1) and random (Wave 2) sampling and named entity redaction of PushShift .gzip Reddit archives for .csv annotation. Computes Cohen's Kappa post-annotation._"
      ]
    },
    {
      "cell_type": "markdown",
      "id": "6798cd51-6e0f-4952-ab6d-1dcc8d4a4212",
      "metadata": {
        "id": "6798cd51-6e0f-4952-ab6d-1dcc8d4a4212"
      },
      "source": [
        "> bar_sample_annotate_iaa.ipynb<br>\n",
        "> Simone J. Skeen (06-24-2024)"
      ]
    },
    {
      "cell_type": "markdown",
      "id": "affd73c6-0a20-4c57-bade-c6b314610435",
      "metadata": {
        "id": "affd73c6-0a20-4c57-bade-c6b314610435"
      },
      "source": [
        "### Pre-annotation\n",
        "***"
      ]
    },
    {
      "cell_type": "code",
      "source": [
        "#%pip install bertopic\n",
        "\n",
        "!python -m spacy download en_core_web_lg --user"
      ],
      "metadata": {
        "id": "U3DLJH5p7D4I",
        "collapsed": true
      },
      "id": "U3DLJH5p7D4I",
      "execution_count": null,
      "outputs": []
    },
    {
      "cell_type": "code",
      "execution_count": null,
      "id": "83bb8bab-34f5-49c7-abd1-7c85118d8959",
      "metadata": {
        "id": "83bb8bab-34f5-49c7-abd1-7c85118d8959"
      },
      "outputs": [],
      "source": [
        "import gzip\n",
        "import json\n",
        "import matplotlib.pyplot as plt\n",
        "import numpy as np\n",
        "import os\n",
        "import pandas as pd\n",
        "import random\n",
        "import re\n",
        "import spacy\n",
        "import warnings\n",
        "import webbrowser\n",
        "\n",
        "from collections import Counter\n",
        "from google.colab import drive\n",
        "from irrCAC.raw import CAC\n",
        "from sklearn.metrics import cohen_kappa_score\n",
        "\n",
        "spacy.cli.download('en_core_web_lg')\n",
        "\n",
        "from IPython.core.interactiveshell import InteractiveShell\n",
        "InteractiveShell.ast_node_interactivity = 'all'\n",
        "\n",
        "pd.set_option(\n",
        "              'display.max_columns',\n",
        "              None,\n",
        "              )\n",
        "pd.set_option(\n",
        "              'display.max_rows',\n",
        "              None,\n",
        "              )\n",
        "\n",
        "warnings.simplefilter(\n",
        "                      action = 'ignore',\n",
        "                      category = FutureWarning,\n",
        "                      )\n",
        "\n",
        "#!python -m prodigy stats"
      ]
    },
    {
      "cell_type": "code",
      "source": [
        "drive.mount(\n",
        "            '/content/gdrive/',\n",
        "            force_remount = True,\n",
        "            )\n",
        "\n",
        "%cd gdrive/My Drive/Colab/prospectus/d_posts"
      ],
      "metadata": {
        "id": "cWxS34vQ7Hy2"
      },
      "execution_count": null,
      "outputs": [],
      "id": "cWxS34vQ7Hy2"
    },
    {
      "cell_type": "markdown",
      "source": [
        "**_Import_**"
      ],
      "metadata": {
        "id": "OMSI1D-cTkig"
      },
      "id": "OMSI1D-cTkig"
    },
    {
      "cell_type": "code",
      "execution_count": null,
      "id": "5223e24d-c668-45e4-8ac1-fc4bb388c349",
      "metadata": {
        "id": "5223e24d-c668-45e4-8ac1-fc4bb388c349",
        "collapsed": true
      },
      "outputs": [],
      "source": [
        "wd = '/content/gdrive/MyDrive/Colab/prospectus/d_posts' ### Colab - gdrive\n",
        "\n",
        "#wd = 'C:/Users/sskee/OneDrive/Documents/02_tulane/01_research/03_prospectus/d_posts' ### Jupyter - local\n",
        "\n",
        "ds = []\n",
        "\n",
        "# Loop over .json.gz\n",
        "\n",
        "for filename in os.listdir(wd):\n",
        "    if filename.endswith('.json.gz'):\n",
        "        filepath = os.path.join(\n",
        "                                wd,\n",
        "                                filename,\n",
        "                                )\n",
        "        with gzip.open(\n",
        "                       filepath,\n",
        "                       'rt', ### 'open for reading', 'text mode'\n",
        "                       encoding = 'utf-8',\n",
        "                       ) as i:\n",
        "            data = [json.loads(line) for line in i]\n",
        "            d_gz = pd.DataFrame(data)\n",
        "            ds.append(d_gz)\n",
        "\n",
        "# Concatenate\n",
        "\n",
        "d = pd.concat(\n",
        "              ds,\n",
        "              ignore_index = True,\n",
        "              )\n",
        "\n",
        "# Harmonize\n",
        "\n",
        "d = d.dropna(\n",
        "             axis = 1,\n",
        "             how = 'any',\n",
        "             )\n",
        "\n",
        "# De-duplicate\n",
        "\n",
        "d = d.drop_duplicates(\n",
        "                      subset = 'id',\n",
        "                      )\n",
        "\n",
        "# Re-index\n",
        "\n",
        "d['date'] = pd.to_datetime(\n",
        "                           d.created_utc,\n",
        "                           unit = 's',\n",
        "                           )\n",
        "\n",
        "d.set_index(\n",
        "            'date',\n",
        "            drop = False,\n",
        "            inplace = True,\n",
        "            )\n",
        "\n",
        "# Inspect\n",
        "\n",
        "d.shape\n",
        "d.dtypes\n",
        "d.sample(3)"
      ]
    },
    {
      "cell_type": "markdown",
      "source": [
        "**_Format_**"
      ],
      "metadata": {
        "id": "iSRzM_RMTpdx"
      },
      "id": "iSRzM_RMTpdx"
    },
    {
      "cell_type": "code",
      "execution_count": null,
      "id": "3926d762-394b-4ff3-a50a-fd56d40243d2",
      "metadata": {
        "id": "3926d762-394b-4ff3-a50a-fd56d40243d2"
      },
      "outputs": [],
      "source": [
        "def d_prep(d):\n",
        "    '''Prepares d for annotation'''\n",
        "    d = d[[\n",
        "           'author',\n",
        "           'created_utc',\n",
        "           'date',\n",
        "           'id',\n",
        "           'num_comments',\n",
        "           'selftext',\n",
        "           'subreddit',\n",
        "           'title',\n",
        "           ]].copy()\n",
        "\n",
        "    d.rename(\n",
        "             columns = {\n",
        "                        'author': 'p_au',\n",
        "                        'created_utc': 'p_utc',\n",
        "                        'date': 'p_date',\n",
        "                        'id': 'p_id',\n",
        "                        'num_comments': 'n_cmnt',\n",
        "                        'selftext': 'text',\n",
        "                        'subreddit': 'sbrt',\n",
        "                        'title': 'p_titl',\n",
        "                        }, inplace = True,\n",
        "            )\n",
        "\n",
        "    d = d.assign(\n",
        "                 asp = ' ',      ### STS\n",
        "                 asp_rtnl = ' ',\n",
        "                 dep = ' ',\n",
        "                 dep_rtnl = ' ',\n",
        "                 val = ' ',\n",
        "                 val_rtnl = ' ',\n",
        "                 prg = ' ',      ### explicit\n",
        "                 tgd = ' ',\n",
        "                 age = ' ',      ### hybrid\n",
        "                 race = ' ',     ### implicit\n",
        "                 dbty = ' ',\n",
        "                 insb = ' ',     ### insubstantial\n",
        "                 )\n",
        "\n",
        "    d = d[~d['text'].isin([\n",
        "                           '[deleted]',\n",
        "                           '[removed]',\n",
        "                           ])]\n",
        "\n",
        "    return d\n",
        "\n",
        "d = d_prep(d)\n",
        "\n",
        "# Restrict timeframe\n",
        "\n",
        "d = d.loc[(d['p_date'] >= '2022-01-01') & (d['p_date'] <= '2022-12-31')]\n",
        "\n",
        "# Verify\n",
        "\n",
        "d.shape\n",
        "sbrt = d['sbrt'].unique()\n",
        "print(sbrt)\n",
        "d.head(1)\n",
        "d.tail(1)\n",
        "\n",
        "# Plot\n",
        "\n",
        "monthly_counts = d.resample('M').sbrt.value_counts().unstack().fillna(0)\n",
        "\n",
        "fig, ax = plt.subplots(figsize=(10, 6))\n",
        "\n",
        "monthly_counts.plot(\n",
        "                    kind = 'line',\n",
        "                    ax = ax,\n",
        "                    )\n",
        "\n",
        "box = ax.get_position()\n",
        "\n",
        "ax.set_position(\n",
        "                [\n",
        "                 box.x0,\n",
        "                 box.y0,\n",
        "                 box.width * 0.8,\n",
        "                 box.height,\n",
        "                 ]\n",
        "                  )\n",
        "\n",
        "ax.legend(\n",
        "          loc = 'center left',\n",
        "          bbox_to_anchor=(1, 0.5),\n",
        "          )\n",
        "\n",
        "plt.show()"
      ]
    },
    {
      "cell_type": "markdown",
      "source": [
        "**_Parse by subreddit_**"
      ],
      "metadata": {
        "id": "mUFzr3RDaUKC"
      },
      "id": "mUFzr3RDaUKC"
    },
    {
      "cell_type": "code",
      "execution_count": null,
      "id": "47188289-5ff4-4d0a-9c9c-953312ba3f81",
      "metadata": {
        "id": "47188289-5ff4-4d0a-9c9c-953312ba3f81"
      },
      "outputs": [],
      "source": [
        "def d_parse(d, col):\n",
        "    '''Parses d by subreddit'''\n",
        "    uniq_val = d[col].unique()\n",
        "    sub_d = {}\n",
        "    for val in uniq_val:\n",
        "        sub_d[f'd_{val}'] = d[d[col] == val].copy()\n",
        "\n",
        "    return sub_d\n",
        "\n",
        "sub_d = d_parse(\n",
        "                d,\n",
        "                'sbrt',\n",
        "                )"
      ]
    },
    {
      "cell_type": "markdown",
      "source": [
        "**_Subset A: strains (proxy)_**"
      ],
      "metadata": {
        "id": "DpUYKeifcTzK"
      },
      "id": "DpUYKeifcTzK"
    },
    {
      "cell_type": "code",
      "source": [
        "d_ax = sub_d['d_Anxiety']\n",
        "d_dp = sub_d['d_depression']\n",
        "d_mh = sub_d['d_mentalhealth']\n",
        "d_sw = sub_d['d_SuicideWatch']\n",
        "\n",
        "print('r/Anxiety')\n",
        "d_ax.shape\n",
        "print('\\nr/depression')\n",
        "d_dp.shape\n",
        "print('\\nr/mentalhealth')\n",
        "d_mh.shape\n",
        "print('\\nr/SuicideWatch')\n",
        "d_sw.shape"
      ],
      "metadata": {
        "id": "FJePaFGmaJGr"
      },
      "id": "FJePaFGmaJGr",
      "execution_count": null,
      "outputs": []
    },
    {
      "cell_type": "markdown",
      "source": [
        "**_Subset B: explicit BAR targets (proxy)_**"
      ],
      "metadata": {
        "id": "hPFu-CLqccop"
      },
      "id": "hPFu-CLqccop"
    },
    {
      "cell_type": "code",
      "execution_count": null,
      "id": "f62709bd-acef-4221-9253-f16241b241a5",
      "metadata": {
        "tags": [],
        "id": "f62709bd-acef-4221-9253-f16241b241a5"
      },
      "outputs": [],
      "source": [
        "d_gs = sub_d['d_TheGirlSurvivalGuide']\n",
        "d_tr = sub_d['d_trans']\n",
        "d_tx = sub_d['d_TwoXChromosomes']\n",
        "\n",
        "print('r/TheGirlSurvivalGuide')\n",
        "d_gs.shape\n",
        "print('\\nr/Trans')\n",
        "d_tr.shape\n",
        "print('\\nr/TwoXChromosomes')\n",
        "d_tx.shape"
      ]
    },
    {
      "cell_type": "markdown",
      "id": "4f2c4f12-d0f1-4288-978e-45b91509a53a",
      "metadata": {
        "id": "4f2c4f12-d0f1-4288-978e-45b91509a53a"
      },
      "source": [
        "### Wave 1: purposive"
      ]
    },
    {
      "cell_type": "markdown",
      "source": [
        "**_Define <|PII|> redaction function_**"
      ],
      "metadata": {
        "id": "PT059gZFqh0A"
      },
      "id": "PT059gZFqh0A"
    },
    {
      "cell_type": "code",
      "source": [
        "#import spacy\n",
        "\n",
        "nlp = spacy.load('en_core_web_lg')\n",
        "\n",
        "def redact(p_text):\n",
        "    ne = list(\n",
        "              [\n",
        "               'PERSON',   ### people, including fictional\n",
        "               'NORP',     ### nationalities or religious or political groups\n",
        "               'FAC',      ### buildings, airports, highways, bridges, etc.\n",
        "               'ORG',      ### companies, agencies, institutions, etc.\n",
        "               #'GPE',     ### countries, cities, states\n",
        "               'LOC',      ### non-GPE locations, mountain ranges, bodies of water\n",
        "               'PRODUCT',  ### objects, vehicles, foods, etc. (not services)\n",
        "               'EVENT',    ### named hurricanes, battles, wars, sports events, etc.\n",
        "               ]\n",
        "                )\n",
        "\n",
        "    doc = nlp(p_text)\n",
        "    ne_to_remove = []\n",
        "    final_string = str(p_text)\n",
        "    for sent in doc.ents:\n",
        "        if sent.label_ in ne:\n",
        "            ne_to_remove.append(str(sent.text))\n",
        "    for n in range(len(ne_to_remove)):\n",
        "        final_string = final_string.replace(\n",
        "                                            ne_to_remove[n],\n",
        "                                            '<|PII|>',\n",
        "                                            )\n",
        "    return final_string\n",
        "\n",
        "#d['text'] = d['text'].astype(str).apply(lambda i: redact(i))"
      ],
      "metadata": {
        "id": "LDqO8-AeqpB9"
      },
      "id": "LDqO8-AeqpB9",
      "execution_count": null,
      "outputs": []
    },
    {
      "cell_type": "markdown",
      "id": "ead8b73a-ea40-423d-986e-2f80f608f550",
      "metadata": {
        "id": "ead8b73a-ea40-423d-986e-2f80f608f550"
      },
      "source": [
        "#### Cycle 0 (pilot)"
      ]
    },
    {
      "cell_type": "markdown",
      "source": [
        "**_r/SuicideWatch_**"
      ],
      "metadata": {
        "id": "wKGuo94OrpDI"
      },
      "id": "wKGuo94OrpDI"
    },
    {
      "cell_type": "code",
      "execution_count": null,
      "id": "0dbb7b26-1086-4a72-a374-7d4548066e11",
      "metadata": {
        "collapsed": true,
        "jupyter": {
          "outputs_hidden": true,
          "source_hidden": true
        },
        "tags": [],
        "id": "0dbb7b26-1086-4a72-a374-7d4548066e11"
      },
      "outputs": [],
      "source": [
        "'.gend\\S*|pregnan\\S*' ### a priori/canonical\n",
        "'trans|non-?binary|dysphor\\S*|hormone|abort\\S*|dobbs|roe' ### inductively derived\n",
        "\n",
        "rg = re.compile('.gend\\S*|pregnan\\S*|trans|non-?binary|dysphor\\S*|hormone|abort\\S*|dobbs|roe', re.I)\n",
        "\n",
        "d = d.loc[d['text'].str.contains(\n",
        "                                 rg,\n",
        "                                 regex = True,\n",
        "                                 )]\n",
        "\n",
        "d['text'] = d['text'].astype(str).apply(lambda i: redact(i))\n",
        "d.shape\n",
        "\n",
        "# Export: 'd_cycle*.xlsx'\n",
        "\n",
        "os.chdir('C:/Users/sskee/OneDrive/Documents/02_tulane/01_research/03_prospectus/annotation/d_raw')\n",
        "#%pwd\n",
        "\n",
        "d.to_excel('d_cycle1.xlsx')"
      ]
    },
    {
      "cell_type": "markdown",
      "id": "a5028f6a-24a8-40f7-a54a-780b0177f335",
      "metadata": {
        "id": "a5028f6a-24a8-40f7-a54a-780b0177f335"
      },
      "source": [
        "#### Cycle 1"
      ]
    },
    {
      "cell_type": "markdown",
      "source": [
        "**Subset A**<br>\n",
        "r/Anxiety, r/Depression, r/MentalHealth, r/SuicideWatch\n",
        "\n",
        "**Subset B**<br>\n",
        "r/Trans"
      ],
      "metadata": {
        "id": "FiXcI80YuwDE"
      },
      "id": "FiXcI80YuwDE"
    },
    {
      "cell_type": "code",
      "execution_count": null,
      "id": "eafbec81-c434-4593-87dd-bdec313b1908",
      "metadata": {
        "jupyter": {
          "source_hidden": true
        },
        "tags": [],
        "id": "eafbec81-c434-4593-87dd-bdec313b1908"
      },
      "outputs": [],
      "source": [
        "d_a = pd.concat([\n",
        "                 d_ax,\n",
        "                 d_dp,\n",
        "                 d_mh,\n",
        "                 d_sw,\n",
        "                 ])\n",
        "\n",
        "d_a.reset_index(\n",
        "                drop = True,\n",
        "                inplace = True,\n",
        "                )\n",
        "\n",
        "d_b = d_tr.copy()"
      ]
    },
    {
      "cell_type": "code",
      "execution_count": null,
      "id": "983c8be1-1e48-4211-a8ea-c5dbb2393a05",
      "metadata": {
        "collapsed": true,
        "jupyter": {
          "outputs_hidden": true,
          "source_hidden": true
        },
        "tags": [],
        "id": "983c8be1-1e48-4211-a8ea-c5dbb2393a05"
      },
      "outputs": [],
      "source": [
        "# Subset A: r/anxiety, r/depression, r/mentalhealth, r/SuicideWatch\n",
        "\n",
        "'.gend\\S*|pregnan\\S*' ### a priori/canonical\n",
        "'trans|non-?binary|dysphor\\S*|hormone|abort\\S*|dobbs|roe' ### inductively derived\n",
        "\n",
        "rg_a = re.compile('.gend\\S*|pregnan\\S*|trans|non-?binary|dysphor\\S*|hormone|abort\\S*|dobbs|roe', re.I)\n",
        "\n",
        "d_a = d_a.loc[d_a['text'].str.contains(\n",
        "                                       rg_a,\n",
        "                                       regex = True,\n",
        "                                       )]\n",
        "\n",
        "d_a.shape\n",
        "\n",
        "# Subset B: r/trans\n",
        "\n",
        "'.criminal\\S*|restrict\\S*|.law|.legal\\S*' ### a priori/canonical\n",
        "\n",
        "rg_b = re.compile('.criminal\\S*|restrict\\S*|.law|.legal\\S*', re.I)\n",
        "\n",
        "d_b = d_b.loc[d_b['text'].str.contains(\n",
        "                                       rg_b,\n",
        "                                       regex = True,\n",
        "                                       )]\n",
        "\n",
        "d_b.shape"
      ]
    },
    {
      "cell_type": "code",
      "execution_count": null,
      "id": "ba376f5f-dc54-4253-858d-b40d677674c2",
      "metadata": {
        "collapsed": true,
        "jupyter": {
          "outputs_hidden": true,
          "source_hidden": true
        },
        "tags": [],
        "id": "ba376f5f-dc54-4253-858d-b40d677674c2"
      },
      "outputs": [],
      "source": [
        "d = pd.concat([\n",
        "               d_a, # n = 9740\n",
        "               d_b, # n = 1505\n",
        "               ])\n",
        "\n",
        "d.shape # N = 11245"
      ]
    },
    {
      "cell_type": "markdown",
      "source": [
        "**Export: 'd_cycle*.xlsx'**"
      ],
      "metadata": {
        "id": "ux5HGk7BzC1m"
      },
      "id": "ux5HGk7BzC1m"
    },
    {
      "cell_type": "code",
      "execution_count": null,
      "id": "12af9766-e4e3-4b44-8ff4-7a446e9715e9",
      "metadata": {
        "jupyter": {
          "source_hidden": true
        },
        "tags": [],
        "id": "12af9766-e4e3-4b44-8ff4-7a446e9715e9"
      },
      "outputs": [],
      "source": [
        "d = d.sample(n = 100)\n",
        "\n",
        "d['text'] = d['text'].astype(str).apply(lambda i: redact(i))\n",
        "d.shape\n",
        "\n",
        "# Export: 'd_cycle*.xlsx'\n",
        "\n",
        "os.chdir('C:/Users/sskee/OneDrive/Documents/02_tulane/01_research/03_prospectus/annotation/d_raw')\n",
        "#%pwd\n",
        "\n",
        "d.to_excel('d_cycle1.xlsx')"
      ]
    },
    {
      "cell_type": "markdown",
      "id": "18ce88a8-8c48-4619-9b27-530961c30704",
      "metadata": {
        "id": "18ce88a8-8c48-4619-9b27-530961c30704"
      },
      "source": [
        "####Cycle 2"
      ]
    },
    {
      "cell_type": "markdown",
      "source": [
        "**Subset A**<br>\n",
        "r/Depression, r/SuicideWatch<br>\n",
        "\n",
        "**Subset B**<br>\n",
        "r/Trans"
      ],
      "metadata": {
        "id": "nOWKSL-6gmdq"
      },
      "id": "nOWKSL-6gmdq"
    },
    {
      "cell_type": "code",
      "execution_count": null,
      "id": "c3ee602f-c615-4c5c-a221-7f3c19532b6e",
      "metadata": {
        "id": "c3ee602f-c615-4c5c-a221-7f3c19532b6e"
      },
      "outputs": [],
      "source": [
        "d_a = pd.concat([\n",
        "                 d_dp,\n",
        "                 d_sw,\n",
        "                 ])\n",
        "\n",
        "        ### SJS 5/22: dropping r/Anxiety, r/mentalhealth\n",
        "\n",
        "d_a.reset_index(\n",
        "                drop = True,\n",
        "                inplace = True,\n",
        "                )\n",
        "\n",
        "d_b = d_tr.copy()"
      ]
    },
    {
      "cell_type": "code",
      "execution_count": null,
      "id": "f2ab871f-6c39-43b0-ac38-24231efcf59e",
      "metadata": {
        "id": "f2ab871f-6c39-43b0-ac38-24231efcf59e"
      },
      "outputs": [],
      "source": [
        "# Subset A\n",
        "\n",
        "'.gend\\S*|pregnan\\S*' ### a priori/canonical\n",
        "'trans|non-?binary|dysphor\\S*|hormone|abort\\S*|dobbs|roe' ### inductively derived\n",
        "\n",
        "rg_a = re.compile('.gend\\S*|pregnan\\S*|trans|non-?binary|dysphor\\S*|hormone|abort\\S*|dobbs|roe', re.I)\n",
        "\n",
        "d_a = d_a.loc[d_a['text'].str.contains(\n",
        "                                       rg_a,\n",
        "                                       regex = True,\n",
        "                                       )]\n",
        "\n",
        "d_a.shape\n",
        "\n",
        "# Subset B\n",
        "\n",
        "'.criminal\\S*|restrict\\S*|illegal\\S*|outlaw\\S*|suicid\\S*' ### a priori/canonical\n",
        "\n",
        "rg_b = re.compile('.criminal\\S*|restrict\\S*|illegal\\S*|outlaw\\S*|suicid\\S*', re.I)\n",
        "\n",
        "d_b = d_b.loc[d_b['text'].str.contains(\n",
        "                                       rg_b,\n",
        "                                       regex = True,\n",
        "                                       )]\n",
        "\n",
        "d_b.shape"
      ]
    },
    {
      "cell_type": "code",
      "execution_count": null,
      "id": "c8964d6f-f254-4358-b37f-69f8ea317c93",
      "metadata": {
        "id": "c8964d6f-f254-4358-b37f-69f8ea317c93"
      },
      "outputs": [],
      "source": [
        "d = pd.concat([\n",
        "               d_a, # n = 5602\n",
        "               d_b, # n = 729\n",
        "               ])\n",
        "\n",
        "d.shape # N = 11245"
      ]
    },
    {
      "cell_type": "markdown",
      "source": [
        "**Export: 'd_cycle*.xlsx'**"
      ],
      "metadata": {
        "id": "be1AwjXmy_La"
      },
      "id": "be1AwjXmy_La"
    },
    {
      "cell_type": "code",
      "execution_count": null,
      "id": "927c9db4-14e1-49b4-ba2f-f5f0ab6a7379",
      "metadata": {
        "id": "927c9db4-14e1-49b4-ba2f-f5f0ab6a7379"
      },
      "outputs": [],
      "source": [
        "d = d.sample(n = 100)\n",
        "\n",
        "d['text'] = d['text'].astype(str).apply(lambda i: redact(i))\n",
        "\n",
        "# Export: 'd_cycle*.xlsx'\n",
        "\n",
        "os.chdir('C:/Users/sskee/OneDrive/Documents/02_tulane/01_research/03_prospectus/annotation/d_raw')\n",
        "#%pwd\n",
        "\n",
        "d.to_excel('d_cycle2.xlsx')"
      ]
    },
    {
      "cell_type": "markdown",
      "source": [
        "#### Cycle 3"
      ],
      "metadata": {
        "id": "2shHgKynpQeT"
      },
      "id": "2shHgKynpQeT"
    },
    {
      "cell_type": "markdown",
      "source": [
        "**Subset A**<br>\n",
        "r/Depression, r/SuicideWatch<br>\n",
        "\n",
        "**Subset B**<br>\n",
        "r/TheGirlsSurvivalGuide, r/Trans, r/TwoXChromosomes"
      ],
      "metadata": {
        "id": "XLBtV8Yftiu8"
      },
      "id": "XLBtV8Yftiu8"
    },
    {
      "cell_type": "code",
      "source": [
        "d_a = pd.concat([\n",
        "                 d_dp,\n",
        "                 d_sw,\n",
        "                 ])\n",
        "\n",
        "d_a.reset_index(\n",
        "                drop = True,\n",
        "                inplace = True,\n",
        "                )\n",
        "\n",
        "d_b = pd.concat([\n",
        "                 d_gs,\n",
        "                 d_tr,\n",
        "                 d_tx,\n",
        "                 ])\n",
        "\n",
        "d_b.reset_index(\n",
        "                drop = True,\n",
        "                inplace = True,\n",
        "                )"
      ],
      "metadata": {
        "id": "IYAzTh5TqdJI"
      },
      "id": "IYAzTh5TqdJI",
      "execution_count": null,
      "outputs": []
    },
    {
      "cell_type": "code",
      "source": [
        "# Subset A\n",
        "\n",
        "'.gend\\S*|pregnan\\S*' ### a priori/canonical\n",
        "'trans|non-?binary|dysphor\\S*|hormone|abort\\S*|dobbs|roe' ### inductively derived\n",
        "\n",
        "rg_a = re.compile('.gend\\S*|pregnan\\S*|trans|non-?binary|dysphor\\S*|hormone|abort\\S*|dobbs|roe', re.I)\n",
        "\n",
        "d_a = d_a.loc[d_a['text'].str.contains(\n",
        "                                       rg_a,\n",
        "                                       regex = True,\n",
        "                                       )]\n",
        "\n",
        "d_a.shape\n",
        "\n",
        "# Subset B\n",
        "\n",
        "'.criminal\\S*|restrict\\S*|illegal\\S*|outlaw\\S*|suicid\\S*' ### a priori/canonical\n",
        "\n",
        "rg_b = re.compile('.criminal\\S*|restrict\\S*|illegal\\S*|outlaw\\S*|suicid\\S*', re.I)\n",
        "\n",
        "d_b = d_b.loc[d_b['text'].str.contains(\n",
        "                                       rg_b,\n",
        "                                       regex = True,\n",
        "                                       )]\n",
        "\n",
        "d_b.shape"
      ],
      "metadata": {
        "collapsed": true,
        "id": "OpTUs671hR-p"
      },
      "id": "OpTUs671hR-p",
      "execution_count": null,
      "outputs": []
    },
    {
      "cell_type": "code",
      "source": [
        "d = pd.concat([\n",
        "               d_a, # n = 5602\n",
        "               d_b, # n = 1971\n",
        "               ])\n",
        "\n",
        "d.shape # N = 7573"
      ],
      "metadata": {
        "id": "J1tW8ghThSCs"
      },
      "id": "J1tW8ghThSCs",
      "execution_count": null,
      "outputs": []
    },
    {
      "cell_type": "markdown",
      "source": [
        "**Export: 'd_cycle*.xlsx'**"
      ],
      "metadata": {
        "id": "9XpPMuchxCd_"
      },
      "id": "9XpPMuchxCd_"
    },
    {
      "cell_type": "code",
      "source": [
        "d = d.sample(n = 150)\n",
        "\n",
        "d['text'] = d['text'].astype(str).apply(lambda i: redact(i))\n",
        "\n",
        "#os.chdir('C:/Users/sskee/OneDrive/Documents/02_tulane/01_research/03_prospectus/annotation/d_raw')\n",
        "#%pwd\n",
        "\n",
        "%cd gdrive/My Drive/Colab/prospectus/annotation/d_raw\n",
        "\n",
        "d.to_excel('d_cycle3.xlsx')"
      ],
      "metadata": {
        "id": "RttpdblchSH-"
      },
      "id": "RttpdblchSH-",
      "execution_count": null,
      "outputs": []
    },
    {
      "cell_type": "code",
      "source": [
        "# Random subset - Cycle 999\n",
        "\n",
        "d_999 = d.sample(n = 1000)\n",
        "\n",
        "d_999['text'] = d_999['text'].astype(str).apply(lambda i: redact(i))\n",
        "\n",
        "d_999.to_excel('d_cycle999.xlsx')"
      ],
      "metadata": {
        "id": "_jBCboc-wG6e"
      },
      "id": "_jBCboc-wG6e",
      "execution_count": null,
      "outputs": []
    },
    {
      "cell_type": "markdown",
      "id": "db7f1217-bbf0-4f7a-9de4-9a82bfc7ed9d",
      "metadata": {
        "id": "db7f1217-bbf0-4f7a-9de4-9a82bfc7ed9d"
      },
      "source": [
        "### Post-annotation\n",
        "***"
      ]
    },
    {
      "cell_type": "code",
      "execution_count": null,
      "id": "b693250e-ed64-44d5-a2b7-afe6cd981e02",
      "metadata": {
        "id": "b693250e-ed64-44d5-a2b7-afe6cd981e02"
      },
      "outputs": [],
      "source": [
        "# Import + calibrate\n",
        "\n",
        "import numpy as np\n",
        "import os\n",
        "import pandas as pd\n",
        "\n",
        "from IPython.core.interactiveshell import InteractiveShell\n",
        "InteractiveShell.ast_node_interactivity = 'all'\n",
        "\n",
        "from irrCAC.raw import CAC\n",
        "\n",
        "from sklearn.metrics import cohen_kappa_score\n",
        "\n",
        "pd.set_option('display.max_columns', None)\n",
        "\n",
        "#!python -m prodigy stats"
      ]
    },
    {
      "cell_type": "code",
      "execution_count": null,
      "id": "c211cd41-b7a4-41b1-80d3-c6e27890ed61",
      "metadata": {
        "tags": [],
        "id": "c211cd41-b7a4-41b1-80d3-c6e27890ed61"
      },
      "outputs": [],
      "source": [
        "# C:/Users/sskee/OneDrive/Documents/02_tulane/01_research/03_prospectus/annotation\n",
        "\n",
        "os.chdir('C:/Users/sskee/OneDrive/Documents/02_tulane/01_research/03_prospectus/annotation')\n",
        "#%pwd\n",
        "\n",
        "sd = 'C:/Users/sskee/OneDrive/Documents/02_tulane/01_research/03_prospectus/annotation/d_cycle2_sd.xlsx'\n",
        "d_sd = pd.read_excel(sd)\n",
        "#d_sd.dtypes\n",
        "\n",
        "#d_sd = d_sd.replace(' ', 0)\n",
        "d_sd.columns = [f'{col}_sd' for col in d_sd.columns]\n",
        "\n",
        "ss = 'C:/Users/sskee/OneDrive/Documents/02_tulane/01_research/03_prospectus/annotation/d_cycle2_ss.xlsx'\n",
        "d_ss = pd.read_excel(ss)\n",
        "\n",
        "#d_ss = d_ss.replace(' ', 0)\n",
        "d_ss.columns = [f'{col}_ss' for col in d_ss.columns]\n",
        "\n",
        "# Inspect\n",
        "\n",
        "#d_sd.head(3)\n",
        "#d_ss.head(3)\n",
        "\n",
        "# Merge\n",
        "\n",
        "d = pd.merge(\n",
        "             d_sd,\n",
        "             d_ss,\n",
        "             left_index = True,\n",
        "             right_index = True,\n",
        "             )\n",
        "\n",
        "targets = [\n",
        "           'asp_sd', 'asp_ss',\n",
        "           'dep_sd', 'dep_ss',\n",
        "           'val_sd', 'val_ss',\n",
        "           'prg_sd', 'prg_ss',\n",
        "           'tgd_sd', 'tgd_ss',\n",
        "           'age_sd', 'age_ss',\n",
        "           'race_sd', 'race_ss',\n",
        "           'dbty_sd', 'dbty_ss',\n",
        "           'insb_sd', 'insb_ss',\n",
        "            ]\n",
        "\n",
        "#d = d[targets].copy()\n",
        "\n",
        "d = d.fillna(0)\n",
        "d = d.replace(' ', 0)\n",
        "#d = d.apply(pd.to_numeric, errors='coerce')\n",
        "d[targets] = d[targets].apply(\n",
        "                              pd.to_numeric,\n",
        "                              errors = 'coerce',\n",
        "                              )\n",
        "\n",
        "d = d[[\n",
        "        #targets,\n",
        "        'p_id_sd', 'p_id_ss', ### sense-check for bad merge\n",
        "        'text_sd',\n",
        "        'asp_sd', 'asp_ss',\n",
        "        'asp_rtnl_sd', 'asp_rtnl_ss',\n",
        "        'dep_sd', 'dep_ss',\n",
        "        'dep_rtnl_sd', 'dep_rtnl_ss',\n",
        "        'val_sd', 'val_ss',\n",
        "        'val_rtnl_sd', 'val_rtnl_ss',\n",
        "        'prg_sd', 'prg_ss',\n",
        "        'tgd_sd', 'tgd_ss',\n",
        "        'age_sd', 'age_ss',\n",
        "        'race_sd', 'race_ss',\n",
        "        'dbty_sd', 'dbty_ss',\n",
        "        'insb_sd', 'insb_ss',\n",
        "        ]].copy()\n",
        "\n",
        "d.rename(\n",
        "           columns = {\n",
        "                      'p_id_sd': 'p_id',\n",
        "                      'text_sd': 'text',\n",
        "                      }, inplace = True,\n",
        "          )\n",
        "\n",
        "#d.to_excel('iaa_inspect.xlsx')\n",
        "\n",
        "# Drop insb = 1 (either annotator)\n",
        "\n",
        "d = d[(d['insb_sd'] != 1) & (d['insb_ss'] != 1)]\n",
        "\n",
        "'n valid'\n",
        "d.shape\n",
        "\n",
        "# Convert to numpy array\n",
        "\n",
        "#for target in targets:\n",
        "#    target = d[target].to_numpy()\n",
        "\n",
        "# Function to calculate Cohen's Kappa score for a pair of columns\n",
        "def calculate_kappa(d, col_sd, col_ss):\n",
        "    return cohen_kappa_score(d[col_sd], d[col_ss])\n",
        "\n",
        "# List of column pairs to check\n",
        "column_pairs = [\n",
        "                ('asp_sd', 'asp_ss'),\n",
        "                ('dep_sd', 'dep_ss'),\n",
        "                ('val_sd', 'val_ss'),\n",
        "                ('prg_sd', 'prg_ss'),\n",
        "                ('tgd_sd', 'tgd_ss'),\n",
        "                ('age_sd', 'age_ss'),\n",
        "                ('race_sd', 'race_ss'),\n",
        "                ('dbty_sd', 'dbty_ss'),\n",
        "                ]\n",
        "\n",
        "# Dictionary to store the results\n",
        "kappa_results = {}\n",
        "\n",
        "# Loop through the column pairs and calculate Cohen's Kappa score\n",
        "for col_sd, col_ss in column_pairs:\n",
        "    kappa = calculate_kappa(d, col_sd, col_ss)\n",
        "    kappa_results[f'{col_sd} and {col_ss}'] = kappa\n",
        "\n",
        "# Display the results\n",
        "for pair, kappa in kappa_results.items():\n",
        "    print(f\"Cohen's Kappa for {pair}: {kappa:.2f}\")\n",
        "\n",
        "\n",
        "# Dummy code disagreements - inspection, triangulation\n",
        "\n",
        "# Define the mismatch checking function\n",
        "\n",
        "def d_disagree(row):\n",
        "    return 1 if row[0] != row[1] else 0\n",
        "\n",
        "# List of column pairs and corresponding new column names\n",
        "\n",
        "sts_pairs = [('asp_sd', 'asp_ss', 'asp_dis'),\n",
        "             ('dep_sd', 'dep_ss', 'dep_dis'),\n",
        "             ('val_sd', 'val_ss', 'val_dis')]\n",
        "\n",
        "# Iterate through each pair of columns\n",
        "for col1, col2, dis_col in sts_pairs:\n",
        "    # Apply the check_mismatch function row-wise and assign results to a new column\n",
        "    d[dis_col] = d[[col1, col2]].apply(d_disagree, axis = 1)\n",
        "\n",
        "\n",
        "d.to_excel('iaa_cycle1.xlsx')"
      ]
    },
    {
      "cell_type": "markdown",
      "id": "6336ff2d-94e0-4d83-9c34-af0260603a5f",
      "metadata": {
        "id": "6336ff2d-94e0-4d83-9c34-af0260603a5f"
      },
      "source": [
        "> End of bar_sample_annotate_iaa.ipynb (04-17-2024)"
      ]
    }
  ],
  "metadata": {
    "kernelspec": {
      "display_name": "Python 3",
      "name": "python3"
    },
    "language_info": {
      "codemirror_mode": {
        "name": "ipython",
        "version": 3
      },
      "file_extension": ".py",
      "mimetype": "text/x-python",
      "name": "python",
      "nbconvert_exporter": "python",
      "pygments_lexer": "ipython3",
      "version": "3.9.13"
    },
    "colab": {
      "provenance": [],
      "machine_shape": "hm",
      "collapsed_sections": [
        "ead8b73a-ea40-423d-986e-2f80f608f550",
        "a5028f6a-24a8-40f7-a54a-780b0177f335",
        "18ce88a8-8c48-4619-9b27-530961c30704"
      ],
      "gpuType": "T4"
    },
    "accelerator": "GPU"
  },
  "nbformat": 4,
  "nbformat_minor": 5
}